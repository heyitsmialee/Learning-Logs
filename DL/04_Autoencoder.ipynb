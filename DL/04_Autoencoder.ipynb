{
  "cells": [
    {
      "cell_type": "markdown",
      "source": [
        "MLP / CNN 어떤걸로 할지 선택\n",
        "\n",
        "오토인코더 써서 실습과 유사하게 하되, 모델의 구조는 변경 필요\n",
        "\n",
        "1. feature extraction : Code vector 뽑아서 latent image 확인\n",
        "\n",
        "2. reconstruction error 이용해서 novelty detection 해보기"
      ],
      "metadata": {
        "id": "V6aGfC9cwTAm"
      }
    },
    {
      "cell_type": "code",
      "execution_count": null,
      "metadata": {
        "id": "KnayA5k_jlnq"
      },
      "outputs": [],
      "source": [
        "import numpy as np\n",
        "import pandas as pd\n",
        "import matplotlib.pyplot as plt\n",
        "%matplotlib inline\n",
        "\n",
        "import tensorflow as tf\n",
        "from tensorflow.keras import layers, models, optimizers\n",
        "from tensorflow.keras.utils import to_categorical"
      ]
    },
    {
      "cell_type": "code",
      "source": [
        "from google.colab import drive\n",
        "drive.mount('/content/drive/')"
      ],
      "metadata": {
        "colab": {
          "base_uri": "https://localhost:8080/"
        },
        "id": "63OgDBvfVFJ2",
        "outputId": "1fc3abaf-5667-4f38-935a-e9a29d6aff5e"
      },
      "execution_count": null,
      "outputs": [
        {
          "output_type": "stream",
          "name": "stdout",
          "text": [
            "Mounted at /content/drive/\n"
          ]
        }
      ]
    },
    {
      "cell_type": "code",
      "execution_count": null,
      "metadata": {
        "id": "ATPK1Niyjlns"
      },
      "outputs": [],
      "source": [
        "datax = np.load('/content/drive/MyDrive/MNIST.npy', allow_pickle=True)\n",
        "datay = np.load('/content/drive/MyDrive/Label.npy', allow_pickle=True)"
      ]
    },
    {
      "cell_type": "code",
      "execution_count": null,
      "metadata": {
        "colab": {
          "base_uri": "https://localhost:8080/"
        },
        "id": "FGr2frrFjlnt",
        "outputId": "2ae6fdf1-15de-4151-a069-5d2a9cb3f949"
      },
      "outputs": [
        {
          "output_type": "stream",
          "name": "stdout",
          "text": [
            "최대 : 1.0, 최소 : 0.0\n"
          ]
        }
      ],
      "source": [
        "datax_norm = datax/255\n",
        "print('최대 : {}, 최소 : {}'.format(np.max(datax_norm), np.min(datax_norm)))"
      ]
    },
    {
      "cell_type": "markdown",
      "metadata": {
        "id": "P2F8ZkD6jlnv"
      },
      "source": [
        "**MLP Autoencoder**"
      ]
    },
    {
      "cell_type": "code",
      "execution_count": null,
      "metadata": {
        "colab": {
          "base_uri": "https://localhost:8080/"
        },
        "id": "eh3uGXl8jlnx",
        "outputId": "912eaf96-75ca-4a0b-d772-0abaae7f0957"
      },
      "outputs": [
        {
          "output_type": "execute_result",
          "data": {
            "text/plain": [
              "(60000, 784)"
            ]
          },
          "metadata": {},
          "execution_count": 6
        }
      ],
      "source": [
        "datax_reshape = datax_norm.reshape([60000, 28*28])\n",
        "datax_reshape.shape"
      ]
    },
    {
      "cell_type": "code",
      "execution_count": null,
      "metadata": {
        "id": "u9uSm_z0jlnx"
      },
      "outputs": [],
      "source": [
        "# Model\n",
        "\n",
        "input_dim = datax_reshape.shape[1]\n",
        "\n",
        "input_shape = (input_dim,)\n",
        "input_tensor = layers.Input(input_shape)\n",
        "\n",
        "## Encoder\n",
        "encoder1 = layers.Dense(700, activation='leaky_relu')(input_tensor)\n",
        "encoder2 = layers.Dense(400, activation='leaky_relu')(encoder1)\n",
        "encoder3 = layers.Dense(150, activation='leaky_relu')(encoder2)\n",
        "encoder4 = layers.Dense(49, activation='leaky_relu', name='latent_layer')(encoder3)\n",
        "\n",
        "latent_tensor = encoder4\n",
        "\n",
        "## Decoder\n",
        "decoder1 = layers.Dense(150, activation='leaky_relu')(latent_tensor)\n",
        "decoder2 = layers.Dense(400, activation='leaky_relu')(decoder1)\n",
        "decoder3 = layers.Dense(700, activation='leaky_relu')(decoder2)\n",
        "\n",
        "# Outputs\n",
        "reconstruction_output = layers.Dense(input_dim, activation='relu')(decoder3)"
      ]
    },
    {
      "cell_type": "code",
      "execution_count": null,
      "metadata": {
        "id": "ULiEnvgqjlny"
      },
      "outputs": [],
      "source": [
        "ae = models.Model(input_tensor, reconstruction_output)\n",
        "ae.compile(optimizer = 'AdamW', loss = 'mse')"
      ]
    },
    {
      "cell_type": "code",
      "execution_count": null,
      "metadata": {
        "colab": {
          "base_uri": "https://localhost:8080/",
          "height": 430
        },
        "id": "d48zlXC1jlny",
        "outputId": "15049827-9895-4517-a75a-9da0a26e9d60"
      },
      "outputs": [
        {
          "output_type": "display_data",
          "data": {
            "text/plain": [
              "\u001b[1mModel: \"functional_3\"\u001b[0m\n"
            ],
            "text/html": [
              "<pre style=\"white-space:pre;overflow-x:auto;line-height:normal;font-family:Menlo,'DejaVu Sans Mono',consolas,'Courier New',monospace\"><span style=\"font-weight: bold\">Model: \"functional_3\"</span>\n",
              "</pre>\n"
            ]
          },
          "metadata": {}
        },
        {
          "output_type": "display_data",
          "data": {
            "text/plain": [
              "┏━━━━━━━━━━━━━━━━━━━━━━━━━━━━━━━━━┳━━━━━━━━━━━━━━━━━━━━━━━━┳━━━━━━━━━━━━━━━┓\n",
              "┃\u001b[1m \u001b[0m\u001b[1mLayer (type)                   \u001b[0m\u001b[1m \u001b[0m┃\u001b[1m \u001b[0m\u001b[1mOutput Shape          \u001b[0m\u001b[1m \u001b[0m┃\u001b[1m \u001b[0m\u001b[1m      Param #\u001b[0m\u001b[1m \u001b[0m┃\n",
              "┡━━━━━━━━━━━━━━━━━━━━━━━━━━━━━━━━━╇━━━━━━━━━━━━━━━━━━━━━━━━╇━━━━━━━━━━━━━━━┩\n",
              "│ input_layer_1 (\u001b[38;5;33mInputLayer\u001b[0m)      │ (\u001b[38;5;45mNone\u001b[0m, \u001b[38;5;34m784\u001b[0m)            │             \u001b[38;5;34m0\u001b[0m │\n",
              "├─────────────────────────────────┼────────────────────────┼───────────────┤\n",
              "│ dense_7 (\u001b[38;5;33mDense\u001b[0m)                 │ (\u001b[38;5;45mNone\u001b[0m, \u001b[38;5;34m700\u001b[0m)            │       \u001b[38;5;34m549,500\u001b[0m │\n",
              "├─────────────────────────────────┼────────────────────────┼───────────────┤\n",
              "│ dense_8 (\u001b[38;5;33mDense\u001b[0m)                 │ (\u001b[38;5;45mNone\u001b[0m, \u001b[38;5;34m400\u001b[0m)            │       \u001b[38;5;34m280,400\u001b[0m │\n",
              "├─────────────────────────────────┼────────────────────────┼───────────────┤\n",
              "│ dense_9 (\u001b[38;5;33mDense\u001b[0m)                 │ (\u001b[38;5;45mNone\u001b[0m, \u001b[38;5;34m150\u001b[0m)            │        \u001b[38;5;34m60,150\u001b[0m │\n",
              "├─────────────────────────────────┼────────────────────────┼───────────────┤\n",
              "│ latent_layer (\u001b[38;5;33mDense\u001b[0m)            │ (\u001b[38;5;45mNone\u001b[0m, \u001b[38;5;34m49\u001b[0m)             │         \u001b[38;5;34m7,399\u001b[0m │\n",
              "├─────────────────────────────────┼────────────────────────┼───────────────┤\n",
              "│ dense_10 (\u001b[38;5;33mDense\u001b[0m)                │ (\u001b[38;5;45mNone\u001b[0m, \u001b[38;5;34m150\u001b[0m)            │         \u001b[38;5;34m7,500\u001b[0m │\n",
              "├─────────────────────────────────┼────────────────────────┼───────────────┤\n",
              "│ dense_11 (\u001b[38;5;33mDense\u001b[0m)                │ (\u001b[38;5;45mNone\u001b[0m, \u001b[38;5;34m400\u001b[0m)            │        \u001b[38;5;34m60,400\u001b[0m │\n",
              "├─────────────────────────────────┼────────────────────────┼───────────────┤\n",
              "│ dense_12 (\u001b[38;5;33mDense\u001b[0m)                │ (\u001b[38;5;45mNone\u001b[0m, \u001b[38;5;34m700\u001b[0m)            │       \u001b[38;5;34m280,700\u001b[0m │\n",
              "├─────────────────────────────────┼────────────────────────┼───────────────┤\n",
              "│ dense_13 (\u001b[38;5;33mDense\u001b[0m)                │ (\u001b[38;5;45mNone\u001b[0m, \u001b[38;5;34m784\u001b[0m)            │       \u001b[38;5;34m549,584\u001b[0m │\n",
              "└─────────────────────────────────┴────────────────────────┴───────────────┘\n"
            ],
            "text/html": [
              "<pre style=\"white-space:pre;overflow-x:auto;line-height:normal;font-family:Menlo,'DejaVu Sans Mono',consolas,'Courier New',monospace\">┏━━━━━━━━━━━━━━━━━━━━━━━━━━━━━━━━━┳━━━━━━━━━━━━━━━━━━━━━━━━┳━━━━━━━━━━━━━━━┓\n",
              "┃<span style=\"font-weight: bold\"> Layer (type)                    </span>┃<span style=\"font-weight: bold\"> Output Shape           </span>┃<span style=\"font-weight: bold\">       Param # </span>┃\n",
              "┡━━━━━━━━━━━━━━━━━━━━━━━━━━━━━━━━━╇━━━━━━━━━━━━━━━━━━━━━━━━╇━━━━━━━━━━━━━━━┩\n",
              "│ input_layer_1 (<span style=\"color: #0087ff; text-decoration-color: #0087ff\">InputLayer</span>)      │ (<span style=\"color: #00d7ff; text-decoration-color: #00d7ff\">None</span>, <span style=\"color: #00af00; text-decoration-color: #00af00\">784</span>)            │             <span style=\"color: #00af00; text-decoration-color: #00af00\">0</span> │\n",
              "├─────────────────────────────────┼────────────────────────┼───────────────┤\n",
              "│ dense_7 (<span style=\"color: #0087ff; text-decoration-color: #0087ff\">Dense</span>)                 │ (<span style=\"color: #00d7ff; text-decoration-color: #00d7ff\">None</span>, <span style=\"color: #00af00; text-decoration-color: #00af00\">700</span>)            │       <span style=\"color: #00af00; text-decoration-color: #00af00\">549,500</span> │\n",
              "├─────────────────────────────────┼────────────────────────┼───────────────┤\n",
              "│ dense_8 (<span style=\"color: #0087ff; text-decoration-color: #0087ff\">Dense</span>)                 │ (<span style=\"color: #00d7ff; text-decoration-color: #00d7ff\">None</span>, <span style=\"color: #00af00; text-decoration-color: #00af00\">400</span>)            │       <span style=\"color: #00af00; text-decoration-color: #00af00\">280,400</span> │\n",
              "├─────────────────────────────────┼────────────────────────┼───────────────┤\n",
              "│ dense_9 (<span style=\"color: #0087ff; text-decoration-color: #0087ff\">Dense</span>)                 │ (<span style=\"color: #00d7ff; text-decoration-color: #00d7ff\">None</span>, <span style=\"color: #00af00; text-decoration-color: #00af00\">150</span>)            │        <span style=\"color: #00af00; text-decoration-color: #00af00\">60,150</span> │\n",
              "├─────────────────────────────────┼────────────────────────┼───────────────┤\n",
              "│ latent_layer (<span style=\"color: #0087ff; text-decoration-color: #0087ff\">Dense</span>)            │ (<span style=\"color: #00d7ff; text-decoration-color: #00d7ff\">None</span>, <span style=\"color: #00af00; text-decoration-color: #00af00\">49</span>)             │         <span style=\"color: #00af00; text-decoration-color: #00af00\">7,399</span> │\n",
              "├─────────────────────────────────┼────────────────────────┼───────────────┤\n",
              "│ dense_10 (<span style=\"color: #0087ff; text-decoration-color: #0087ff\">Dense</span>)                │ (<span style=\"color: #00d7ff; text-decoration-color: #00d7ff\">None</span>, <span style=\"color: #00af00; text-decoration-color: #00af00\">150</span>)            │         <span style=\"color: #00af00; text-decoration-color: #00af00\">7,500</span> │\n",
              "├─────────────────────────────────┼────────────────────────┼───────────────┤\n",
              "│ dense_11 (<span style=\"color: #0087ff; text-decoration-color: #0087ff\">Dense</span>)                │ (<span style=\"color: #00d7ff; text-decoration-color: #00d7ff\">None</span>, <span style=\"color: #00af00; text-decoration-color: #00af00\">400</span>)            │        <span style=\"color: #00af00; text-decoration-color: #00af00\">60,400</span> │\n",
              "├─────────────────────────────────┼────────────────────────┼───────────────┤\n",
              "│ dense_12 (<span style=\"color: #0087ff; text-decoration-color: #0087ff\">Dense</span>)                │ (<span style=\"color: #00d7ff; text-decoration-color: #00d7ff\">None</span>, <span style=\"color: #00af00; text-decoration-color: #00af00\">700</span>)            │       <span style=\"color: #00af00; text-decoration-color: #00af00\">280,700</span> │\n",
              "├─────────────────────────────────┼────────────────────────┼───────────────┤\n",
              "│ dense_13 (<span style=\"color: #0087ff; text-decoration-color: #0087ff\">Dense</span>)                │ (<span style=\"color: #00d7ff; text-decoration-color: #00d7ff\">None</span>, <span style=\"color: #00af00; text-decoration-color: #00af00\">784</span>)            │       <span style=\"color: #00af00; text-decoration-color: #00af00\">549,584</span> │\n",
              "└─────────────────────────────────┴────────────────────────┴───────────────┘\n",
              "</pre>\n"
            ]
          },
          "metadata": {}
        },
        {
          "output_type": "display_data",
          "data": {
            "text/plain": [
              "\u001b[1m Total params: \u001b[0m\u001b[38;5;34m1,795,633\u001b[0m (6.85 MB)\n"
            ],
            "text/html": [
              "<pre style=\"white-space:pre;overflow-x:auto;line-height:normal;font-family:Menlo,'DejaVu Sans Mono',consolas,'Courier New',monospace\"><span style=\"font-weight: bold\"> Total params: </span><span style=\"color: #00af00; text-decoration-color: #00af00\">1,795,633</span> (6.85 MB)\n",
              "</pre>\n"
            ]
          },
          "metadata": {}
        },
        {
          "output_type": "display_data",
          "data": {
            "text/plain": [
              "\u001b[1m Trainable params: \u001b[0m\u001b[38;5;34m1,795,633\u001b[0m (6.85 MB)\n"
            ],
            "text/html": [
              "<pre style=\"white-space:pre;overflow-x:auto;line-height:normal;font-family:Menlo,'DejaVu Sans Mono',consolas,'Courier New',monospace\"><span style=\"font-weight: bold\"> Trainable params: </span><span style=\"color: #00af00; text-decoration-color: #00af00\">1,795,633</span> (6.85 MB)\n",
              "</pre>\n"
            ]
          },
          "metadata": {}
        },
        {
          "output_type": "display_data",
          "data": {
            "text/plain": [
              "\u001b[1m Non-trainable params: \u001b[0m\u001b[38;5;34m0\u001b[0m (0.00 B)\n"
            ],
            "text/html": [
              "<pre style=\"white-space:pre;overflow-x:auto;line-height:normal;font-family:Menlo,'DejaVu Sans Mono',consolas,'Courier New',monospace\"><span style=\"font-weight: bold\"> Non-trainable params: </span><span style=\"color: #00af00; text-decoration-color: #00af00\">0</span> (0.00 B)\n",
              "</pre>\n"
            ]
          },
          "metadata": {}
        }
      ],
      "source": [
        "ae.summary()"
      ]
    },
    {
      "cell_type": "code",
      "execution_count": null,
      "metadata": {
        "scrolled": false,
        "colab": {
          "base_uri": "https://localhost:8080/"
        },
        "id": "1gaEvDzsjlnz",
        "outputId": "9c3f5941-ebea-4a7a-f51d-c8ff99ecfa66"
      },
      "outputs": [
        {
          "output_type": "stream",
          "name": "stdout",
          "text": [
            "Epoch 1/30\n",
            "300/300 - 4s - 14ms/step - loss: 0.0239\n",
            "Epoch 2/30\n",
            "300/300 - 2s - 5ms/step - loss: 0.0103\n",
            "Epoch 3/30\n",
            "300/300 - 1s - 5ms/step - loss: 0.0084\n",
            "Epoch 4/30\n",
            "300/300 - 1s - 4ms/step - loss: 0.0074\n",
            "Epoch 5/30\n",
            "300/300 - 1s - 4ms/step - loss: 0.0068\n",
            "Epoch 6/30\n",
            "300/300 - 1s - 5ms/step - loss: 0.0063\n",
            "Epoch 7/30\n",
            "300/300 - 2s - 5ms/step - loss: 0.0060\n",
            "Epoch 8/30\n",
            "300/300 - 1s - 3ms/step - loss: 0.0057\n",
            "Epoch 9/30\n",
            "300/300 - 1s - 5ms/step - loss: 0.0055\n",
            "Epoch 10/30\n",
            "300/300 - 1s - 4ms/step - loss: 0.0053\n",
            "Epoch 11/30\n",
            "300/300 - 1s - 4ms/step - loss: 0.0052\n",
            "Epoch 12/30\n",
            "300/300 - 2s - 5ms/step - loss: 0.0050\n",
            "Epoch 13/30\n",
            "300/300 - 2s - 8ms/step - loss: 0.0049\n",
            "Epoch 14/30\n",
            "300/300 - 2s - 8ms/step - loss: 0.0048\n",
            "Epoch 15/30\n",
            "300/300 - 1s - 4ms/step - loss: 0.0047\n",
            "Epoch 16/30\n",
            "300/300 - 1s - 3ms/step - loss: 0.0046\n",
            "Epoch 17/30\n",
            "300/300 - 1s - 4ms/step - loss: 0.0046\n",
            "Epoch 18/30\n",
            "300/300 - 1s - 4ms/step - loss: 0.0045\n",
            "Epoch 19/30\n",
            "300/300 - 1s - 4ms/step - loss: 0.0044\n",
            "Epoch 20/30\n",
            "300/300 - 1s - 4ms/step - loss: 0.0044\n",
            "Epoch 21/30\n",
            "300/300 - 1s - 5ms/step - loss: 0.0043\n",
            "Epoch 22/30\n",
            "300/300 - 2s - 8ms/step - loss: 0.0042\n",
            "Epoch 23/30\n",
            "300/300 - 1s - 3ms/step - loss: 0.0042\n",
            "Epoch 24/30\n",
            "300/300 - 1s - 4ms/step - loss: 0.0041\n",
            "Epoch 25/30\n",
            "300/300 - 1s - 3ms/step - loss: 0.0041\n",
            "Epoch 26/30\n",
            "300/300 - 1s - 3ms/step - loss: 0.0041\n",
            "Epoch 27/30\n",
            "300/300 - 1s - 3ms/step - loss: 0.0040\n",
            "Epoch 28/30\n",
            "300/300 - 1s - 4ms/step - loss: 0.0040\n",
            "Epoch 29/30\n",
            "300/300 - 1s - 3ms/step - loss: 0.0039\n",
            "Epoch 30/30\n",
            "300/300 - 1s - 4ms/step - loss: 0.0039\n"
          ]
        },
        {
          "output_type": "execute_result",
          "data": {
            "text/plain": [
              "<keras.src.callbacks.history.History at 0x79bcb06f2050>"
            ]
          },
          "metadata": {},
          "execution_count": 18
        }
      ],
      "source": [
        "#parameter\n",
        "epoch=30\n",
        "batch_size=200\n",
        "\n",
        "# y에도 datax를 넣어줌 => 복원하는 것을 목표로 하는 network 이기 때문\n",
        "ae.fit(datax_reshape, datax_reshape,\n",
        "       batch_size = batch_size,\n",
        "       epochs=epoch,\n",
        "       verbose=2)"
      ]
    },
    {
      "cell_type": "code",
      "execution_count": null,
      "metadata": {
        "colab": {
          "base_uri": "https://localhost:8080/",
          "height": 448
        },
        "id": "WPfCK9cQjln0",
        "outputId": "fb2c6e66-b335-407c-ab34-1e665d5daf83"
      },
      "outputs": [
        {
          "output_type": "execute_result",
          "data": {
            "text/plain": [
              "<matplotlib.image.AxesImage at 0x79bc46d20c10>"
            ]
          },
          "metadata": {},
          "execution_count": 60
        },
        {
          "output_type": "display_data",
          "data": {
            "text/plain": [
              "<Figure size 640x480 with 1 Axes>"
            ],
            "image/png": "[encoded data removed]"
          },
          "metadata": {}
        }
      ],
      "source": [
        "# 원본 데이터 확인\n",
        "plt.imshow(datax_reshape[231].reshape(28,28))"
      ]
    },
    {
      "cell_type": "code",
      "execution_count": null,
      "metadata": {
        "colab": {
          "base_uri": "https://localhost:8080/",
          "height": 466
        },
        "id": "XKU2OTyXjln1",
        "outputId": "3678153d-c3f2-4955-d07f-b76fc1107d60"
      },
      "outputs": [
        {
          "output_type": "stream",
          "name": "stdout",
          "text": [
            "\u001b[1m1/1\u001b[0m \u001b[32m━━━━━━━━━━━━━━━━━━━━\u001b[0m\u001b[37m\u001b[0m \u001b[1m0s\u001b[0m 29ms/step\n"
          ]
        },
        {
          "output_type": "execute_result",
          "data": {
            "text/plain": [
              "<matplotlib.image.AxesImage at 0x79bc46c4ed10>"
            ]
          },
          "metadata": {},
          "execution_count": 61
        },
        {
          "output_type": "display_data",
          "data": {
            "text/plain": [
              "<Figure size 640x480 with 1 Axes>"
            ],
            "image/png": "[encoded data removed]"
          },
          "metadata": {}
        }
      ],
      "source": [
        "# 데이터를 모델에 넣고 복원시킵니다.\n",
        "decoded_img = ae.predict(datax_reshape[231].reshape(1,28*28))\n",
        "decoded_img = decoded_img.reshape(28,28)\n",
        "\n",
        "# 복원된 데이터 확인\n",
        "plt.imshow(decoded_img)"
      ]
    },
    {
      "cell_type": "code",
      "source": [
        "intermediate_layer_model = models.Model(inputs=ae.input,\n",
        "                                 outputs=ae.get_layer('latent_layer').output) #latent_layer 가져와서 output 출력\n",
        "intermediate_output = intermediate_layer_model.predict(datax_reshape[231].reshape(1,28*28))\n",
        "\n",
        "latent_vector = np.array(intermediate_output)\n",
        "print(latent_vector.shape)\n",
        "plt.imshow(latent_vector.reshape(7,7))"
      ],
      "metadata": {
        "colab": {
          "base_uri": "https://localhost:8080/",
          "height": 484
        },
        "id": "0qeXwGExlRg_",
        "outputId": "04ba6fbf-9a34-44b0-97b8-484e16187c4e"
      },
      "execution_count": null,
      "outputs": [
        {
          "output_type": "stream",
          "name": "stdout",
          "text": [
            "\u001b[1m1/1\u001b[0m \u001b[32m━━━━━━━━━━━━━━━━━━━━\u001b[0m\u001b[37m\u001b[0m \u001b[1m0s\u001b[0m 389ms/step\n",
            "(1, 49)\n"
          ]
        },
        {
          "output_type": "execute_result",
          "data": {
            "text/plain": [
              "<matplotlib.image.AxesImage at 0x79bc46ce8bd0>"
            ]
          },
          "metadata": {},
          "execution_count": 62
        },
        {
          "output_type": "display_data",
          "data": {
            "text/plain": [
              "<Figure size 640x480 with 1 Axes>"
            ],
            "image/png": "[encoded data removed]"
          },
          "metadata": {}
        }
      ]
    },
    {
      "cell_type": "code",
      "execution_count": null,
      "metadata": {
        "colab": {
          "base_uri": "https://localhost:8080/"
        },
        "id": "phWgGf6Pjln1",
        "outputId": "96938cd3-9c22-4292-eb03-9b2b786aea28"
      },
      "outputs": [
        {
          "output_type": "execute_result",
          "data": {
            "text/plain": [
              "np.float64(0.20119217460257063)"
            ]
          },
          "metadata": {},
          "execution_count": 80
        }
      ],
      "source": [
        "# MAE 확인 (Reconstruction Error)\n",
        "np.mean(np.abs(datax_reshape[700] - decoded_img.reshape(784,1)))"
      ]
    },
    {
      "cell_type": "code",
      "source": [
        "# MAE 확인 (Reconstruction Error)\n",
        "np.mean(np.abs(datax_reshape[0] - decoded_img.reshape(784,1)))\n",
        "\n",
        "diffs = list()\n",
        "for i in range(300):\n",
        "\n",
        "  # 데이터를 모델에 넣고 복원시킵니다.\n",
        "  decoded_img = ae.predict(datax_reshape[i].reshape(1,28*28), verbose=0)\n",
        "  decoded_img = decoded_img.reshape(28,28)\n",
        "\n",
        "  diffs.append(np.mean(np.abs(datax_reshape[i] - decoded_img.reshape(784,1))))\n",
        "\n",
        "print(np.mean(diffs))\n",
        "print(np.std(diffs))\n",
        "print(np.mean(diffs)+np.std(diffs)*1.5)\n",
        "plt.hist(diffs)\n",
        "plt.show()"
      ],
      "metadata": {
        "colab": {
          "base_uri": "https://localhost:8080/",
          "height": 484
        },
        "id": "F9kMQnZ2sinu",
        "outputId": "c12741be-cd65-4498-b50b-27f22071a90c"
      },
      "execution_count": null,
      "outputs": [
        {
          "output_type": "stream",
          "name": "stdout",
          "text": [
            "0.21667106179964976\n",
            "0.05832852944246014\n",
            "0.30416385596333995\n"
          ]
        },
        {
          "output_type": "display_data",
          "data": {
            "text/plain": [
              "<Figure size 640x480 with 1 Axes>"
            ],
            "image/png": "[encoded data removed]"
          },
          "metadata": {}
        }
      ]
    },
    {
      "cell_type": "code",
      "source": [
        "random_vector = np.random.rand(784,1)"
      ],
      "metadata": {
        "id": "hbzrIVm-q_yP"
      },
      "execution_count": null,
      "outputs": []
    },
    {
      "cell_type": "code",
      "execution_count": null,
      "metadata": {
        "scrolled": true,
        "colab": {
          "base_uri": "https://localhost:8080/",
          "height": 466
        },
        "id": "fM7diGnUjln2",
        "outputId": "941a67ad-9033-4b0d-a570-e8ff8c5a3303"
      },
      "outputs": [
        {
          "output_type": "stream",
          "name": "stdout",
          "text": [
            "\u001b[1m1/1\u001b[0m \u001b[32m━━━━━━━━━━━━━━━━━━━━\u001b[0m\u001b[37m\u001b[0m \u001b[1m0s\u001b[0m 44ms/step\n"
          ]
        },
        {
          "output_type": "execute_result",
          "data": {
            "text/plain": [
              "np.float64(0.3871534475189258)"
            ]
          },
          "metadata": {},
          "execution_count": 116
        },
        {
          "output_type": "display_data",
          "data": {
            "text/plain": [
              "<Figure size 640x480 with 1 Axes>"
            ],
            "image/png": "[encoded data removed]"
          },
          "metadata": {}
        }
      ],
      "source": [
        "random_vector = np.random.rand(784,1)\n",
        "\n",
        "# 데이터를 모델에 넣고 복원시킵니다.\n",
        "decoded_img = ae.predict(random_vector.reshape(1,28*28))\n",
        "decoded_img = decoded_img.reshape(28,28)\n",
        "\n",
        "# 복원된 데이터 확인\n",
        "plt.imshow(decoded_img)\n",
        "\n",
        "np.mean(np.abs(random_vector - decoded_img.reshape(784,1))) #학습 데이터에 대비 MAE가 높음 => outlier"
      ]
    },
    {
      "cell_type": "code",
      "execution_count": null,
      "metadata": {
        "colab": {
          "base_uri": "https://localhost:8080/"
        },
        "id": "ZPw6NWLBjln3",
        "outputId": "f788696c-619f-42bc-bdf0-0b38c7b501d2"
      },
      "outputs": [
        {
          "output_type": "execute_result",
          "data": {
            "text/plain": [
              "np.float64(0.38093245513421103)"
            ]
          },
          "metadata": {},
          "execution_count": 96
        }
      ],
      "source": [
        "np.mean(np.abs(random_vector - decoded_img.reshape(784,1))) #학습 데이터에 대비 MAE가 높음 => outlier"
      ]
    },
    {
      "cell_type": "markdown",
      "metadata": {
        "id": "jDTTxvd7jln4"
      },
      "source": [
        "**CAE**\n",
        "Convolutional Autoencoder"
      ]
    },
    {
      "cell_type": "code",
      "execution_count": null,
      "metadata": {
        "id": "V0mmciDyjln4"
      },
      "outputs": [],
      "source": [
        "datax_reshape = datax_norm.reshape((-1, 28, 28, 1))\n",
        "print('최대 : {}, 최소 : {}'.format(np.max(datax_norm), np.min(datax_norm)))"
      ]
    },
    {
      "cell_type": "code",
      "source": [
        "datax_reshape.shape"
      ],
      "metadata": {
        "id": "11rrqjFuw9Fi"
      },
      "execution_count": null,
      "outputs": []
    },
    {
      "cell_type": "code",
      "execution_count": null,
      "metadata": {
        "id": "zOZNxsz4jln5"
      },
      "outputs": [],
      "source": [
        "## Input\n",
        "input_shape = (28, 28, 1)\n",
        "input_tensor = layers.Input(input_shape)\n",
        "\n",
        "## Encoder\n",
        "conv1 = layers.Conv2D(1, (3,3), padding='valid', activation='relu')(input_tensor)\n",
        "conv2 = layers.Conv2D(1, (3,3), padding='valid', activation='relu')(conv1)\n",
        "conv3 = layers.Conv2D(1, (3,3), padding='valid', activation='relu')(conv2)\n",
        "pooling1 = layers.MaxPool2D(name='imlatent_layer')(conv3)\n",
        "\n",
        "flatten1 = layers.Flatten()(pooling1)\n",
        "dense1 = layers.Dense(100, activation='relu',name='latent_layer')(flatten1)\n",
        "\n",
        "latent_tensor = dense1\n",
        "\n",
        "## Decoding\n",
        "\n",
        "dense2 = layers.Dense(11*11, activation='relu')(latent_tensor)\n",
        "reshaped = layers.Reshape((11, 11, 1))(dense2)\n",
        "\n",
        "upsample1 = layers.UpSampling2D()(reshaped)\n",
        "tconv1 = layers.Conv2DTranspose(1, (3,3), padding='valid', activation='relu')(upsample1)\n",
        "tconv2 = layers.Conv2DTranspose(1, (3,3), padding='valid', activation='relu')(tconv1)\n",
        "tconv3 = layers.Conv2DTranspose(1, (3,3), padding='valid', activation='relu')(tconv2)\n",
        "\n",
        "# Outputs\n",
        "output_tensor = tconv3"
      ]
    },
    {
      "cell_type": "code",
      "execution_count": null,
      "metadata": {
        "id": "jyVcyu-Njln5"
      },
      "outputs": [],
      "source": [
        "cae = models.Model(input_tensor, output_tensor)\n",
        "cae.compile(optimizer = 'Adam', loss = 'mse')"
      ]
    },
    {
      "cell_type": "code",
      "execution_count": null,
      "metadata": {
        "id": "FbDPl-MVjln6"
      },
      "outputs": [],
      "source": [
        "cae.summary()"
      ]
    },
    {
      "cell_type": "code",
      "execution_count": null,
      "metadata": {
        "id": "FhpS4pGNjln6"
      },
      "outputs": [],
      "source": [
        "#parameter\n",
        "epoch=10\n",
        "batch_size=1024\n",
        "\n",
        "cae.fit(datax_reshape, datax_reshape,\n",
        "       batch_size = batch_size,\n",
        "       epochs=epoch,\n",
        "       verbose=2)"
      ]
    },
    {
      "cell_type": "code",
      "execution_count": null,
      "metadata": {
        "id": "nic06BLOjln7"
      },
      "outputs": [],
      "source": [
        "# 원본 데이터 확인\n",
        "plt.imshow(datax_reshape[10].reshape(28,28))"
      ]
    },
    {
      "cell_type": "code",
      "execution_count": null,
      "metadata": {
        "id": "8gClJc6Fjln8"
      },
      "outputs": [],
      "source": [
        "# 데이터를 모델에 넣고 복원시킵니다.\n",
        "decoded_img = cae.predict(datax_reshape[10].reshape(1,28, 28,1))\n",
        "decoded_img = decoded_img.reshape(28,28)\n",
        "\n",
        "# 복원된 데이터 확인\n",
        "plt.imshow(decoded_img)"
      ]
    },
    {
      "cell_type": "code",
      "source": [
        "np.mean(np.abs(datax_reshape[10].reshape(784,1) - decoded_img.reshape(784,1)))"
      ],
      "metadata": {
        "id": "eoHHU-awqwj6"
      },
      "execution_count": null,
      "outputs": []
    },
    {
      "cell_type": "code",
      "source": [
        "diffs = list()\n",
        "for i in range(100):\n",
        "\n",
        "  # 데이터를 모델에 넣고 복원시킵니다.\n",
        "  decoded_img = cae.predict(datax_reshape[i].reshape(1,28, 28,1), verbose=0)\n",
        "  decoded_img = decoded_img.reshape(28,28)\n",
        "\n",
        "  diffs.append(np.mean(np.abs(datax_reshape[i].reshape(784,1) - decoded_img.reshape(784,1))))\n",
        "\n",
        "print(np.mean(diffs))\n",
        "print(np.std(diffs))\n",
        "plt.hist(diffs)\n",
        "plt.show()"
      ],
      "metadata": {
        "id": "gdE3HLXl2ZeL"
      },
      "execution_count": null,
      "outputs": []
    },
    {
      "cell_type": "code",
      "source": [
        "random_vector = np.random.rand(1,28,28,1)\n",
        "# 데이터를 모델에 넣고 복원시킵니다.\n",
        "decoded_img = cae.predict(random_vector)\n",
        "decoded_img = decoded_img.reshape(28,28)\n",
        "\n",
        "# 복원된 데이터 확인\n",
        "plt.imshow(decoded_img)\n",
        "\n",
        "# Reconstruction Error\n",
        "np.mean(np.abs(random_vector.reshape(784,1) - decoded_img.reshape(784,1)))"
      ],
      "metadata": {
        "id": "AdKtgDkwrCvb"
      },
      "execution_count": null,
      "outputs": []
    },
    {
      "cell_type": "code",
      "source": [
        "datax_reshape[10].shape\n",
        "random_vector = datax_reshape[10] + np.random.normal(0, 0.1, size=[28,28,1])\n",
        "plt.imshow(random_vector.reshape(28,28))"
      ],
      "metadata": {
        "id": "nNistSyaQG1v"
      },
      "execution_count": null,
      "outputs": []
    },
    {
      "cell_type": "code",
      "source": [
        "# 데이터를 모델에 넣고 복원시킵니다.\n",
        "decoded_img = cae.predict(random_vector.reshape(-1,28,28,1))\n",
        "decoded_img = decoded_img.reshape(28,28)\n",
        "\n",
        "# 복원된 데이터 확인\n",
        "plt.imshow(decoded_img)\n",
        "\n",
        "# Reconstruction Error\n",
        "np.mean(np.abs(random_vector.reshape(784,1) - decoded_img.reshape(784,1)))"
      ],
      "metadata": {
        "id": "LTEXGbfwP-BO"
      },
      "execution_count": null,
      "outputs": []
    },
    {
      "cell_type": "code",
      "execution_count": null,
      "metadata": {
        "scrolled": true,
        "id": "up4jiBAIjln8"
      },
      "outputs": [],
      "source": [
        "intermediate_layer_model = models.Model(inputs=cae.input,\n",
        "                                 outputs=cae.get_layer('imlatent_layer').output)\n",
        "intermediate_output = intermediate_layer_model.predict(datax_reshape[10].reshape(1,28, 28,1))\n",
        "latent_vector = np.array(intermediate_output)\n",
        "plt.imshow(latent_vector.reshape(11,11))"
      ]
    },
    {
      "cell_type": "code",
      "execution_count": null,
      "metadata": {
        "id": "qdCAAWKqjln9"
      },
      "outputs": [],
      "source": [
        "intermediate_layer_model = models.Model(inputs=cae.input,\n",
        "                                 outputs=cae.get_layer('latent_layer').output)\n",
        "intermediate_output = intermediate_layer_model.predict(datax_reshape[10].reshape(1,28, 28,1))\n",
        "latent_vector = np.array(intermediate_output)\n",
        "plt.imshow(latent_vector.reshape(10,10))"
      ]
    }
  ],
  "metadata": {
    "kernelspec": {
      "display_name": "Python 3",
      "name": "python3"
    },
    "language_info": {
      "codemirror_mode": {
        "name": "ipython",
        "version": 3
      },
      "file_extension": ".py",
      "mimetype": "text/x-python",
      "name": "python",
      "nbconvert_exporter": "python",
      "pygments_lexer": "ipython3",
      "version": "3.7.10"
    },
    "colab": {
      "provenance": [],
      "gpuType": "T4"
    },
    "accelerator": "GPU"
  },
  "nbformat": 4,
  "nbformat_minor": 0
}