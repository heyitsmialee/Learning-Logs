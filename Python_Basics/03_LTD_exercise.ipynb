{
  "nbformat": 4,
  "nbformat_minor": 0,
  "metadata": {
    "colab": {
      "provenance": [],
      "authorship_tag": "ABX9TyOXF61fjnQ7oLN1rGm8FHoq"
    },
    "kernelspec": {
      "name": "python3",
      "display_name": "Python 3"
    },
    "language_info": {
      "name": "python"
    }
  },
  "cells": [
    {
      "cell_type": "code",
      "source": [
        "a = [0, 1, 2, 3, 4, 5]\n",
        "\n",
        "a[0]"
      ],
      "metadata": {
        "colab": {
          "base_uri": "https://localhost:8080/"
        },
        "id": "ocoI5idt475O",
        "outputId": "35272dab-91a1-4434-8e2d-4b261cf6d649"
      },
      "execution_count": null,
      "outputs": [
        {
          "output_type": "execute_result",
          "data": {
            "text/plain": [
              "0"
            ]
          },
          "metadata": {},
          "execution_count": 18
        }
      ]
    },
    {
      "cell_type": "code",
      "source": [
        "a[1:]"
      ],
      "metadata": {
        "colab": {
          "base_uri": "https://localhost:8080/"
        },
        "id": "eDcziARA5Cpt",
        "outputId": "38fe33d8-e63e-4807-994f-29a6b2d8278c"
      },
      "execution_count": null,
      "outputs": [
        {
          "output_type": "execute_result",
          "data": {
            "text/plain": [
              "[1, 2, 3, 4, 5]"
            ]
          },
          "metadata": {},
          "execution_count": 19
        }
      ]
    },
    {
      "cell_type": "code",
      "source": [
        "a[2:3]"
      ],
      "metadata": {
        "colab": {
          "base_uri": "https://localhost:8080/"
        },
        "id": "9UMjYja35Fmg",
        "outputId": "c820fa93-f8da-42f8-ff69-932c0ff62c65"
      },
      "execution_count": null,
      "outputs": [
        {
          "output_type": "execute_result",
          "data": {
            "text/plain": [
              "[2]"
            ]
          },
          "metadata": {},
          "execution_count": 20
        }
      ]
    },
    {
      "cell_type": "code",
      "source": [
        "len(a)"
      ],
      "metadata": {
        "colab": {
          "base_uri": "https://localhost:8080/"
        },
        "id": "AiDoE8mk5G_T",
        "outputId": "a4007294-9fec-4f71-eaea-f7a7cdbbe046"
      },
      "execution_count": null,
      "outputs": [
        {
          "output_type": "execute_result",
          "data": {
            "text/plain": [
              "6"
            ]
          },
          "metadata": {},
          "execution_count": 21
        }
      ]
    },
    {
      "cell_type": "code",
      "source": [
        "even = [2*i for i in range(0,5)]\n",
        "odd = [2*i+1 for i in range(0,5)]\n",
        "\n",
        "print(even)\n",
        "print(odd)\n",
        "\n",
        "ten = even + odd\n",
        "print(ten)"
      ],
      "metadata": {
        "colab": {
          "base_uri": "https://localhost:8080/"
        },
        "id": "J2IPZ2y35Jny",
        "outputId": "70dfcdac-2210-44f9-fb9c-b6024a281401"
      },
      "execution_count": null,
      "outputs": [
        {
          "output_type": "stream",
          "name": "stdout",
          "text": [
            "[0, 2, 4, 6, 8]\n",
            "[1, 3, 5, 7, 9]\n",
            "[0, 2, 4, 6, 8, 1, 3, 5, 7, 9]\n"
          ]
        }
      ]
    },
    {
      "cell_type": "code",
      "source": [
        "ten.sort()\n",
        "print(ten)"
      ],
      "metadata": {
        "colab": {
          "base_uri": "https://localhost:8080/"
        },
        "id": "9BgPA42d5RvD",
        "outputId": "109a9376-47cf-421e-c89d-fdc35fc3c765"
      },
      "execution_count": null,
      "outputs": [
        {
          "output_type": "stream",
          "name": "stdout",
          "text": [
            "[0, 1, 2, 3, 4, 5, 6, 7, 8, 9]\n"
          ]
        }
      ]
    },
    {
      "cell_type": "code",
      "source": [
        "ten.reverse()\n",
        "print(ten)"
      ],
      "metadata": {
        "colab": {
          "base_uri": "https://localhost:8080/"
        },
        "id": "vmfqzUHq5Z3Z",
        "outputId": "b0a1ff51-4f63-4383-f2f2-fb3c13cd0e78"
      },
      "execution_count": null,
      "outputs": [
        {
          "output_type": "stream",
          "name": "stdout",
          "text": [
            "[9, 8, 7, 6, 5, 4, 3, 2, 1, 0]\n"
          ]
        }
      ]
    },
    {
      "cell_type": "code",
      "source": [
        "ten.pop()\n",
        "print(ten)"
      ],
      "metadata": {
        "colab": {
          "base_uri": "https://localhost:8080/"
        },
        "id": "Rv6_CDvq5cWd",
        "outputId": "41196bf7-ef13-40ee-e5a0-2f4b92ae0f76"
      },
      "execution_count": null,
      "outputs": [
        {
          "output_type": "stream",
          "name": "stdout",
          "text": [
            "[9, 8, 7, 6, 5, 4, 3, 2, 1]\n"
          ]
        }
      ]
    },
    {
      "cell_type": "code",
      "source": [
        "ten.append(9)\n",
        "print(ten)"
      ],
      "metadata": {
        "colab": {
          "base_uri": "https://localhost:8080/"
        },
        "id": "TlDTKQeh5fJp",
        "outputId": "34afe056-bab0-4493-eb22-489aa4f52261"
      },
      "execution_count": null,
      "outputs": [
        {
          "output_type": "stream",
          "name": "stdout",
          "text": [
            "[9, 8, 7, 6, 5, 4, 3, 2, 1, 9]\n"
          ]
        }
      ]
    },
    {
      "cell_type": "code",
      "source": [
        "ten = [0, 1, 2, 3, 4, 5, 6, 7, 8, 9]\n",
        "\n",
        "print(ten)\n",
        "del ten[2:4]\n",
        "\n",
        "print(ten)\n",
        "\n",
        "ten[0] = 10\n",
        "print(ten)\n",
        "\n",
        "ten.append([1,2])\n",
        "print(ten)"
      ],
      "metadata": {
        "colab": {
          "base_uri": "https://localhost:8080/"
        },
        "id": "f4LlzQ9N5sqe",
        "outputId": "16522087-73a7-4681-ee85-03596f2db1f0"
      },
      "execution_count": null,
      "outputs": [
        {
          "output_type": "stream",
          "name": "stdout",
          "text": [
            "[0, 1, 2, 3, 4, 5, 6, 7, 8, 9]\n",
            "[0, 1, 4, 5, 6, 7, 8, 9]\n",
            "[10, 1, 4, 5, 6, 7, 8, 9]\n",
            "[10, 1, 4, 5, 6, 7, 8, 9, [1, 2]]\n"
          ]
        }
      ]
    },
    {
      "cell_type": "code",
      "source": [
        "ten = [0, 1, 2, 3, 4, 5, 6, 7, 8, 9]\n",
        "\n",
        "max(ten)"
      ],
      "metadata": {
        "colab": {
          "base_uri": "https://localhost:8080/"
        },
        "id": "fgUZ81B-6J4P",
        "outputId": "ef006a1f-16f2-4998-e885-b82aa0ebfc8b"
      },
      "execution_count": null,
      "outputs": [
        {
          "output_type": "execute_result",
          "data": {
            "text/plain": [
              "9"
            ]
          },
          "metadata": {},
          "execution_count": 34
        }
      ]
    },
    {
      "cell_type": "code",
      "source": [
        "min(ten)"
      ],
      "metadata": {
        "colab": {
          "base_uri": "https://localhost:8080/"
        },
        "id": "P_pXhnbW6NwM",
        "outputId": "7b17081e-62c6-454e-da7f-3fe30b1e112d"
      },
      "execution_count": null,
      "outputs": [
        {
          "output_type": "execute_result",
          "data": {
            "text/plain": [
              "0"
            ]
          },
          "metadata": {},
          "execution_count": 35
        }
      ]
    },
    {
      "cell_type": "code",
      "source": [
        "name = ['Tom','tom', 'Jenny', 'Chris', 'chris', 'Niam', 'teron']\n",
        "max(name)"
      ],
      "metadata": {
        "colab": {
          "base_uri": "https://localhost:8080/",
          "height": 36
        },
        "id": "ryycIRVF6PLR",
        "outputId": "d97d7147-716c-4ae4-e8bf-39a72ed80d9f"
      },
      "execution_count": null,
      "outputs": [
        {
          "output_type": "execute_result",
          "data": {
            "text/plain": [
              "'tom'"
            ],
            "application/vnd.google.colaboratory.intrinsic+json": {
              "type": "string"
            }
          },
          "metadata": {},
          "execution_count": 48
        }
      ]
    },
    {
      "cell_type": "code",
      "source": [
        "min(name)"
      ],
      "metadata": {
        "colab": {
          "base_uri": "https://localhost:8080/",
          "height": 36
        },
        "id": "pE7XaR586nqM",
        "outputId": "4f3aac1e-406e-48db-c10a-b2b30900d733"
      },
      "execution_count": null,
      "outputs": [
        {
          "output_type": "execute_result",
          "data": {
            "text/plain": [
              "'Chris'"
            ],
            "application/vnd.google.colaboratory.intrinsic+json": {
              "type": "string"
            }
          },
          "metadata": {},
          "execution_count": 49
        }
      ]
    },
    {
      "cell_type": "code",
      "source": [
        "constants = (1, 2, 4, 5, 7)\n",
        "print(constants)"
      ],
      "metadata": {
        "colab": {
          "base_uri": "https://localhost:8080/"
        },
        "id": "X8j1gAjI68bm",
        "outputId": "29878f47-b0b7-41e8-a87c-7655a4785617"
      },
      "execution_count": null,
      "outputs": [
        {
          "output_type": "stream",
          "name": "stdout",
          "text": [
            "(1, 2, 4, 5, 7)\n"
          ]
        }
      ]
    },
    {
      "cell_type": "code",
      "source": [
        "constants[0:2]"
      ],
      "metadata": {
        "colab": {
          "base_uri": "https://localhost:8080/"
        },
        "id": "8l3hcGyc7A6m",
        "outputId": "aa21d399-90a1-484e-967e-36950a4e3a6f"
      },
      "execution_count": null,
      "outputs": [
        {
          "output_type": "execute_result",
          "data": {
            "text/plain": [
              "(1, 2)"
            ]
          },
          "metadata": {},
          "execution_count": 53
        }
      ]
    },
    {
      "cell_type": "code",
      "source": [
        "# 작다 대문자 -> 크다 소문자"
      ],
      "metadata": {
        "id": "Q_RKRiIZ62EF"
      },
      "execution_count": null,
      "outputs": []
    },
    {
      "cell_type": "code",
      "source": [
        "###############\n",
        "#\n",
        "#   [1]. 0, 1, 2, 3, 4, 5 6개의 숫자들로 구성된 리스트를 만드시오.\n",
        "#\n",
        "###############"
      ],
      "metadata": {
        "id": "TyddXLaTHYCx"
      },
      "execution_count": null,
      "outputs": []
    },
    {
      "cell_type": "code",
      "source": [
        "a = [i for i in range(0,6)]\n",
        "a"
      ],
      "metadata": {
        "colab": {
          "base_uri": "https://localhost:8080/"
        },
        "id": "yXfJKfHYHlFZ",
        "outputId": "628835cf-a949-4497-9cf0-1e75d0195121"
      },
      "execution_count": null,
      "outputs": [
        {
          "output_type": "execute_result",
          "data": {
            "text/plain": [
              "[0, 1, 2, 3, 4, 5]"
            ]
          },
          "metadata": {},
          "execution_count": 2
        }
      ]
    },
    {
      "cell_type": "code",
      "source": [
        "print(a[0:3])\n",
        "len(a)"
      ],
      "metadata": {
        "colab": {
          "base_uri": "https://localhost:8080/"
        },
        "id": "qUcjWa3QHsrL",
        "outputId": "3da7a828-082d-4e1d-c3da-6fe777e2c33c"
      },
      "execution_count": null,
      "outputs": [
        {
          "output_type": "stream",
          "name": "stdout",
          "text": [
            "[0, 1, 2]\n"
          ]
        },
        {
          "output_type": "execute_result",
          "data": {
            "text/plain": [
              "6"
            ]
          },
          "metadata": {},
          "execution_count": 8
        }
      ]
    },
    {
      "cell_type": "code",
      "source": [
        "###############\n",
        "#\n",
        "#   [2]. 10 미만의 짝수로 구성된 리스트와 10 미만의 홀수로 구성된 리스트를 만드시오.\n",
        "#\n",
        "###############"
      ],
      "metadata": {
        "id": "ICj4_4tMIDeJ"
      },
      "execution_count": null,
      "outputs": []
    },
    {
      "cell_type": "code",
      "source": [
        "even = [2*i for i in range(0,5)]\n",
        "odd = [2*i+1 for i in range(0,5)]\n",
        "\n",
        "print(even)\n",
        "print(odd)\n",
        "\n",
        "## 내가 자주하는 실수 곱하기 기호 생략.. 파이썬은 곱하기 기호를 읽지 못한다!"
      ],
      "metadata": {
        "colab": {
          "base_uri": "https://localhost:8080/"
        },
        "id": "2pWeDN34IN2I",
        "outputId": "c6f64f17-9b0a-4743-d779-d5163ecc8626"
      },
      "execution_count": null,
      "outputs": [
        {
          "output_type": "stream",
          "name": "stdout",
          "text": [
            "[0, 2, 4, 6, 8]\n",
            "[1, 3, 5, 7, 9]\n"
          ]
        }
      ]
    },
    {
      "cell_type": "code",
      "source": [
        "ten = even + odd\n",
        "print(ten)"
      ],
      "metadata": {
        "colab": {
          "base_uri": "https://localhost:8080/"
        },
        "id": "hiSC6cXPIyn-",
        "outputId": "c7aa0511-90b4-4fd1-99e6-e3139c5046e7"
      },
      "execution_count": null,
      "outputs": [
        {
          "output_type": "stream",
          "name": "stdout",
          "text": [
            "[0, 2, 4, 6, 8, 1, 3, 5, 7, 9]\n"
          ]
        }
      ]
    },
    {
      "cell_type": "code",
      "source": [
        "ten.sort()\n",
        "print(ten)"
      ],
      "metadata": {
        "colab": {
          "base_uri": "https://localhost:8080/"
        },
        "id": "4f9o4WjVI1Qq",
        "outputId": "7fbb3bdc-6a30-444f-804a-accb06172369"
      },
      "execution_count": null,
      "outputs": [
        {
          "output_type": "stream",
          "name": "stdout",
          "text": [
            "[0, 1, 2, 3, 4, 5, 6, 7, 8, 9]\n"
          ]
        }
      ]
    },
    {
      "cell_type": "code",
      "source": [
        "ten.reverse()\n",
        "print(ten)"
      ],
      "metadata": {
        "colab": {
          "base_uri": "https://localhost:8080/"
        },
        "id": "QSsSdGiYI8Ak",
        "outputId": "6f1fc3f4-de6a-41d3-8dc6-4ef492f6f2cb"
      },
      "execution_count": null,
      "outputs": [
        {
          "output_type": "stream",
          "name": "stdout",
          "text": [
            "[9, 8, 7, 6, 5, 4, 3, 2, 1, 0]\n"
          ]
        }
      ]
    },
    {
      "cell_type": "code",
      "execution_count": null,
      "metadata": {
        "colab": {
          "base_uri": "https://localhost:8080/"
        },
        "id": "DVGE43bfEOjG",
        "outputId": "1ccf2108-7b87-459f-cf5f-c0fe5c15d6f3"
      },
      "outputs": [
        {
          "output_type": "stream",
          "name": "stdout",
          "text": [
            "[0, 1, 3, 4, 5, 6, 7, 8]\n"
          ]
        }
      ],
      "source": [
        "###############################################################################\n",
        "#\n",
        "#   [1]. 0, 1, 3, 4, 5, 6, 7, 8 8개의 숫자들로 구성된 리스트를 만드시오.\n",
        "#\n",
        "###############################################################################\n",
        "\n",
        "n = [0, 1, 3, 4, 5, 6, 7, 8]\n",
        "print(n)"
      ]
    },
    {
      "cell_type": "code",
      "source": [
        "###############################################################################\n",
        "#\n",
        "#   [2]. 위의 리스트 n의 세 번째 위치에 숫자 2를 삽입하는 파이썬 코드를 작성하시오.\n",
        "#\n",
        "###############################################################################\n",
        "\n",
        "n.insert(2,2)\n",
        "print(n)"
      ],
      "metadata": {
        "colab": {
          "base_uri": "https://localhost:8080/"
        },
        "id": "wYRMshm3Ehkk",
        "outputId": "553d99c3-796f-4e16-c767-e9d7a27c1a52"
      },
      "execution_count": null,
      "outputs": [
        {
          "output_type": "stream",
          "name": "stdout",
          "text": [
            "[0, 1, 2, 3, 4, 5, 6, 7, 8]\n"
          ]
        }
      ]
    },
    {
      "cell_type": "code",
      "source": [
        "###############################################################################\n",
        "#\n",
        "#   [3]. 위의 리스트 n의 가장 마지막 위치에 숫자 9를 삽입(추가)하는 파이썬 코드를 작성하시오.\n",
        "#\n",
        "###############################################################################\n",
        "\n",
        "n.append(9)\n",
        "print(n)"
      ],
      "metadata": {
        "colab": {
          "base_uri": "https://localhost:8080/"
        },
        "id": "ePL0_TiBEgcN",
        "outputId": "c4a9f00f-a0d1-49b2-ebff-b5dc073f3a67"
      },
      "execution_count": null,
      "outputs": [
        {
          "output_type": "stream",
          "name": "stdout",
          "text": [
            "[0, 1, 2, 3, 4, 5, 6, 7, 8, 9]\n"
          ]
        }
      ]
    },
    {
      "cell_type": "code",
      "source": [
        "###############################################################################\n",
        "#\n",
        "#   [4]. 위의 리스트 n에서 숫자 5를 삭제하는 파이썬 코드를 작성하시오.\n",
        "#\n",
        "###############################################################################\n",
        "\n",
        "del n[5]\n",
        "print(n)"
      ],
      "metadata": {
        "colab": {
          "base_uri": "https://localhost:8080/"
        },
        "id": "p2Kc72bUEeJW",
        "outputId": "efa1d603-aec6-4f7d-b9e5-8143128f0bff"
      },
      "execution_count": null,
      "outputs": [
        {
          "output_type": "stream",
          "name": "stdout",
          "text": [
            "[0, 1, 2, 3, 4, 6, 7, 8, 9]\n"
          ]
        }
      ]
    },
    {
      "cell_type": "code",
      "source": [
        "###############################################################################\n",
        "#\n",
        "#   아래 코드는 위에서 생성한 리스트 n을 무작위로 섞는 코드입니다. 문제 5번과 6번을 위해 필요하니\n",
        "#   그대로 남겨 두세요.\n",
        "#\n",
        "###############################################################################\n",
        "import random\n",
        "\n",
        "random.shuffle(n)\n",
        "print('n(rearranged):', n)"
      ],
      "metadata": {
        "colab": {
          "base_uri": "https://localhost:8080/"
        },
        "id": "hXQGILGYEdFm",
        "outputId": "46995fd8-4807-45c2-8977-374d0f94b110"
      },
      "execution_count": null,
      "outputs": [
        {
          "output_type": "stream",
          "name": "stdout",
          "text": [
            "n(rearranged): [7, 6, 2, 8, 3, 0, 1, 4, 9]\n"
          ]
        }
      ]
    },
    {
      "cell_type": "code",
      "source": [
        "###############################################################################\n",
        "#\n",
        "#   [5]. min(), max() 함수를 이용해서 위의 리스트 n에서 최대값과 최소값을 구하시오.\n",
        "#\n",
        "###############################################################################\n",
        "\n",
        "minN = min(n)\n",
        "maxN = max(n)\n",
        "\n",
        "print('minN=', minN)\n",
        "print('maxN=', maxN)"
      ],
      "metadata": {
        "colab": {
          "base_uri": "https://localhost:8080/"
        },
        "id": "2C7o7BA0Eb5S",
        "outputId": "ebbd05de-b498-4e1a-9adc-cf4598b4a6fb"
      },
      "execution_count": null,
      "outputs": [
        {
          "output_type": "stream",
          "name": "stdout",
          "text": [
            "minN= 0\n",
            "maxN= 9\n"
          ]
        }
      ]
    },
    {
      "cell_type": "code",
      "source": [
        "###############################################################################\n",
        "#\n",
        "#   [6]. 리스트의 sort(), reverse() 함수를 이용하여 위의 리스트 n을\n",
        "#   내림차순(큰 값이 앞으로, 작은 값이 뒤로)으로 정렬하시오.\n",
        "#\n",
        "###############################################################################\n",
        "\n",
        "n.sort()\n",
        "n.reverse()\n",
        "print(n)"
      ],
      "metadata": {
        "colab": {
          "base_uri": "https://localhost:8080/"
        },
        "id": "ZwxnqJHVEasN",
        "outputId": "fcb70302-127c-4aea-9dc5-8bcc870e115e"
      },
      "execution_count": null,
      "outputs": [
        {
          "output_type": "stream",
          "name": "stdout",
          "text": [
            "[9, 8, 7, 6, 4, 3, 2, 1, 0]\n"
          ]
        }
      ]
    },
    {
      "cell_type": "code",
      "source": [
        "###############################################################################\n",
        "#\n",
        "#   [7]. 아래는 구구단의 2단을 리스트로 구성한 것이다. 이와 같은 방식으로 구구단의 3, 4, 5단을 리스트로 표현하시오.\n",
        "#\n",
        "#   numberMatrix2 = [2, 4, 6, 8, 10, 12, 14, 16, 18]\n",
        "#\n",
        "###############################################################################\n",
        "\n",
        "numberMatrix2 = [2, 4, 6, 8, 10, 12, 14, 16, 18]\n",
        "numberMatrix3 = []\n",
        "numberMatrix4 = []\n",
        "numberMatrix5 = []\n",
        "\n",
        "for i in range(1,10):\n",
        "    numberMatrix3.append(i*3)\n",
        "    numberMatrix4.append(i*4)\n",
        "    numberMatrix5.append(i*5)\n",
        "\n",
        "print(numberMatrix2)\n",
        "print(numberMatrix3)\n",
        "print(numberMatrix4)\n",
        "print(numberMatrix5)"
      ],
      "metadata": {
        "id": "UVhnCSFiEZZI",
        "colab": {
          "base_uri": "https://localhost:8080/"
        },
        "outputId": "69c836d4-e824-4a82-aff8-cce086eaaf2f"
      },
      "execution_count": null,
      "outputs": [
        {
          "output_type": "stream",
          "name": "stdout",
          "text": [
            "[2, 4, 6, 8, 10, 12, 14, 16, 18]\n",
            "[3, 6, 9, 12, 15, 18, 21, 24, 27]\n",
            "[4, 8, 12, 16, 20, 24, 28, 32, 36]\n",
            "[5, 10, 15, 20, 25, 30, 35, 40, 45]\n"
          ]
        }
      ]
    },
    {
      "cell_type": "code",
      "source": [
        "###############################################################################\n",
        "#\n",
        "#   [8]. 위에서 생성한 구구단 2~5단을 하나의 리스트로 표현하여 구구단 리스트를 만드시오.\n",
        "#\n",
        "###############################################################################\n",
        "\n",
        "numberMatrix = [numberMatrix2, numberMatrix3, numberMatrix4, numberMatrix5]\n",
        "\n",
        "print(numberMatrix)"
      ],
      "metadata": {
        "id": "271xN-V7EXkM",
        "colab": {
          "base_uri": "https://localhost:8080/"
        },
        "outputId": "7321cec8-8d31-4921-f46d-15f2fb786a72"
      },
      "execution_count": null,
      "outputs": [
        {
          "output_type": "stream",
          "name": "stdout",
          "text": [
            "[[2, 4, 6, 8, 10, 12, 14, 16, 18], [3, 6, 9, 12, 15, 18, 21, 24, 27], [4, 8, 12, 16, 20, 24, 28, 32, 36], [5, 10, 15, 20, 25, 30, 35, 40, 45]]\n"
          ]
        }
      ]
    },
    {
      "cell_type": "code",
      "source": [
        "###############################################################################\n",
        "#\n",
        "#   [9]. 문제 [8]에서 생성한 구구단에서 4단을 화면에 출력하는 파이썬 코드를 작성하시오.\n",
        "#\n",
        "###############################################################################\n",
        "\n",
        "print(numberMatrix[2])"
      ],
      "metadata": {
        "id": "7NJQIvdGEVd0",
        "colab": {
          "base_uri": "https://localhost:8080/"
        },
        "outputId": "a702ec29-f409-47ad-d415-ce50c75bb547"
      },
      "execution_count": null,
      "outputs": [
        {
          "output_type": "stream",
          "name": "stdout",
          "text": [
            "[4, 8, 12, 16, 20, 24, 28, 32, 36]\n"
          ]
        }
      ]
    },
    {
      "cell_type": "code",
      "source": [
        "###############################################################################\n",
        "#\n",
        "#   [10]. 아래 정보를 파이썬 딕셔너리 형태로 표현하고, 생성한 딕셔너리를 화면에 출력하시오.\n",
        "#\n",
        "#   '음료': 자몽 주스, 라임 소다\n",
        "#   '빵': 모닝롤, 사과 파이\n",
        "#   '면': 불닭볶음면, 진라면\n",
        "#\n",
        "###############################################################################\n",
        "\n",
        "products = {\n",
        "  '음료': ['자몽 주스', '라임 소다'],\n",
        "  '빵': ['모닝롤', '사과 파이'],\n",
        "  '면': ['불닭볶음면', '진라면']\n",
        "}\n",
        "print(products)"
      ],
      "metadata": {
        "id": "KUKti_wFEUdQ",
        "colab": {
          "base_uri": "https://localhost:8080/"
        },
        "outputId": "12a026c3-aa9e-4321-8f56-c2bcbc0616b6"
      },
      "execution_count": null,
      "outputs": [
        {
          "output_type": "stream",
          "name": "stdout",
          "text": [
            "{'음료': ['자몽 주스', '라임 소다'], '빵': ['모닝롤', '사과 파이'], '면': ['불닭볶음면', '진라면']}\n"
          ]
        }
      ]
    },
    {
      "cell_type": "code",
      "source": [
        "###############################################################################\n",
        "#\n",
        "#   [11]. 문제 [10]에서 생성한 딕셔너리에서 '빵' 카테고리에 해당하는 상품들을 화면에 출력하시오.\n",
        "#\n",
        "###############################################################################\n",
        "\n",
        "print(products['빵'])"
      ],
      "metadata": {
        "id": "npcqhj7LETVW",
        "colab": {
          "base_uri": "https://localhost:8080/"
        },
        "outputId": "f6204f36-afcb-488e-9136-da4b85951922"
      },
      "execution_count": null,
      "outputs": [
        {
          "output_type": "stream",
          "name": "stdout",
          "text": [
            "['모닝롤', '사과 파이']\n"
          ]
        }
      ]
    },
    {
      "cell_type": "code",
      "source": [
        "print(products.get('빵'))\n",
        "print(products.get('음료'))"
      ],
      "metadata": {
        "colab": {
          "base_uri": "https://localhost:8080/"
        },
        "id": "OU_VWvNl7I-v",
        "outputId": "f96fa3e4-e8ae-439f-9fcd-4cde313580c5"
      },
      "execution_count": null,
      "outputs": [
        {
          "output_type": "stream",
          "name": "stdout",
          "text": [
            "['모닝롤', '사과 파이']\n",
            "['자몽 주스', '라임 소다']\n"
          ]
        }
      ]
    },
    {
      "cell_type": "code",
      "source": [
        "###############################################################################\n",
        "#\n",
        "#   [12]. 문제 [10]에서 생성한 딕셔너리의 '빵' 카테고리에 아래 상품을 추가하고 '빵' 카테고리의 상품들을 다시 출력하시오.\n",
        "#\n",
        "#   슈크림 크로와상\n",
        "#\n",
        "###############################################################################\n",
        "\n",
        "products['빵'].append('슈크림 크로와상')\n",
        "\n",
        "print(products['빵'])"
      ],
      "metadata": {
        "id": "NiuvMYs0ESE4",
        "colab": {
          "base_uri": "https://localhost:8080/"
        },
        "outputId": "d88d1715-75f3-4a49-8379-0f5683010354"
      },
      "execution_count": null,
      "outputs": [
        {
          "output_type": "stream",
          "name": "stdout",
          "text": [
            "['모닝롤', '사과 파이', '슈크림 크로와상']\n"
          ]
        }
      ]
    },
    {
      "cell_type": "code",
      "source": [
        "'빵' in products"
      ],
      "metadata": {
        "colab": {
          "base_uri": "https://localhost:8080/"
        },
        "id": "kiO2N1PV7V75",
        "outputId": "42859dc0-dcc3-4181-85f4-747015aadab9"
      },
      "execution_count": null,
      "outputs": [
        {
          "output_type": "execute_result",
          "data": {
            "text/plain": [
              "True"
            ]
          },
          "metadata": {},
          "execution_count": 70
        }
      ]
    },
    {
      "cell_type": "code",
      "source": [
        "products.keys()"
      ],
      "metadata": {
        "colab": {
          "base_uri": "https://localhost:8080/"
        },
        "id": "hSFYTyyu7ZJn",
        "outputId": "ea929b8a-6f66-4e82-94d7-64086992eb5c"
      },
      "execution_count": null,
      "outputs": [
        {
          "output_type": "execute_result",
          "data": {
            "text/plain": [
              "dict_keys(['음료', '빵', '면'])"
            ]
          },
          "metadata": {},
          "execution_count": 71
        }
      ]
    },
    {
      "cell_type": "code",
      "source": [
        "del products['빵']\n",
        "products"
      ],
      "metadata": {
        "colab": {
          "base_uri": "https://localhost:8080/"
        },
        "id": "2doRSyI97cDz",
        "outputId": "cf622899-b700-41ab-b221-b3e112208844"
      },
      "execution_count": null,
      "outputs": [
        {
          "output_type": "execute_result",
          "data": {
            "text/plain": [
              "{'음료': ['자몽 주스', '라임 소다'], '면': ['불닭볶음면', '진라면']}"
            ]
          },
          "metadata": {},
          "execution_count": 72
        }
      ]
    },
    {
      "cell_type": "code",
      "source": [
        "a = [1, 2, 3]\n",
        "a2 = a\n",
        "\n",
        "a2.append(2)\n",
        "\n",
        "print(a)\n",
        "\n",
        "a.pop()\n",
        "\n",
        "print(a2)"
      ],
      "metadata": {
        "colab": {
          "base_uri": "https://localhost:8080/"
        },
        "id": "QUuKiMbxVd60",
        "outputId": "ed074816-6af9-4cba-e569-e282516f02df"
      },
      "execution_count": null,
      "outputs": [
        {
          "output_type": "stream",
          "name": "stdout",
          "text": [
            "[1, 2, 3, 2]\n",
            "[1, 2, 3]\n"
          ]
        }
      ]
    },
    {
      "cell_type": "code",
      "source": [],
      "metadata": {
        "id": "QgvQ0w3mJRIY"
      },
      "execution_count": null,
      "outputs": []
    }
  ]
}