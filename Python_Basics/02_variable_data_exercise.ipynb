{
  "nbformat": 4,
  "nbformat_minor": 0,
  "metadata": {
    "colab": {
      "provenance": [],
      "authorship_tag": "ABX9TyNhiXgxIyFIFq86NXkALQul"
    },
    "kernelspec": {
      "name": "python3",
      "display_name": "Python 3"
    },
    "language_info": {
      "name": "python"
    }
  },
  "cells": [
    {
      "cell_type": "code",
      "source": [
        "# 덧셈\n",
        "num = 1852 + 2283\n",
        "\n",
        "# 뺄셈\n",
        "num2 = 1852 - 2283\n",
        "\n",
        "# 곱셈, 나눗셈\n",
        "num3 = 5*3/2\n",
        "\n",
        "# 나눗셈, 곱셈\n",
        "num4 = 3/2*5\n",
        "\n",
        "# 거듭제곱\n",
        "num5 = 11**2\n",
        "\n",
        "# 거듭제곱, 곱셈\n",
        "num6 = 5*2**2\n",
        "\n",
        "print(num, num2, num3, num4, num5, num6)"
      ],
      "metadata": {
        "colab": {
          "base_uri": "https://localhost:8080/"
        },
        "id": "D8I5ChXchK3m",
        "outputId": "2ef194b9-8ae4-418d-8921-ce3ec718df38"
      },
      "execution_count": null,
      "outputs": [
        {
          "output_type": "stream",
          "name": "stdout",
          "text": [
            "4135 -431 7.5 7.5 121 20\n"
          ]
        }
      ]
    },
    {
      "cell_type": "code",
      "source": [
        "n = 0\n",
        "n = n + 1 #변수 n에서 값을 읽은 후 계산 후에 변수 n에 결과를 저장 n = 0 + 1 = 1\n",
        "n = n + 2 #변수 n에서 값을 읽은 후 계산 후에 변수 n에 결과를 저장 n = 1 + 2 = 3\n",
        "\n",
        "print(n) # 결과값으로 3이 출력됨"
      ],
      "metadata": {
        "colab": {
          "base_uri": "https://localhost:8080/"
        },
        "id": "PV7YKznqhTRF",
        "outputId": "be55a2ad-2bb2-405a-c915-eeff7bda4bd6"
      },
      "execution_count": null,
      "outputs": [
        {
          "output_type": "stream",
          "name": "stdout",
          "text": [
            "3\n"
          ]
        }
      ]
    },
    {
      "cell_type": "code",
      "source": [
        "s1 = 'Learning Python'\n",
        "s2 = \"Learning Python\"\n",
        "s3 = '''Learning Python'''\n",
        "s4 = \"\"\"Learning Python\"\"\"\n",
        "\n",
        "print(s1)\n",
        "print(s2)\n",
        "print(s3)\n",
        "print(s4)"
      ],
      "metadata": {
        "colab": {
          "base_uri": "https://localhost:8080/"
        },
        "id": "xAzFK8AXhYBv",
        "outputId": "fdcb1f6e-3f90-4772-dc46-f0c6f9fbf799"
      },
      "execution_count": null,
      "outputs": [
        {
          "output_type": "stream",
          "name": "stdout",
          "text": [
            "Learning Python\n",
            "Learning Python\n",
            "Learning Python\n",
            "Learning Python\n"
          ]
        }
      ]
    },
    {
      "cell_type": "code",
      "source": [
        "# 줄 바꿈 하는 방법\n",
        "s3 = '''Learning Python is easy, \\nif you have daily study.'''\n",
        "s4 = \"\"\"Learning Python is easy,\n",
        "if you have daily study.\"\"\"\n",
        "\n",
        "print(s3)\n",
        "print(s4)"
      ],
      "metadata": {
        "colab": {
          "base_uri": "https://localhost:8080/"
        },
        "id": "CGcgIDa1hdhl",
        "outputId": "0a3f2b9e-50ce-4b19-e324-c316c0e79508"
      },
      "execution_count": null,
      "outputs": [
        {
          "output_type": "stream",
          "name": "stdout",
          "text": [
            "Learning Python is easy, \n",
            "if you have daily study.\n",
            "Learning Python is easy,\n",
            "if you have daily study.\n"
          ]
        }
      ]
    },
    {
      "cell_type": "code",
      "source": [
        "num1 = 9\n",
        "num2 = 19\n",
        "num3 = num1 + num2\n",
        "\n",
        "print(num1, num2, num3)"
      ],
      "metadata": {
        "colab": {
          "base_uri": "https://localhost:8080/"
        },
        "id": "7WF-DgXohhoE",
        "outputId": "847d962e-ae72-4e20-cb71-954c90e17556"
      },
      "execution_count": null,
      "outputs": [
        {
          "output_type": "stream",
          "name": "stdout",
          "text": [
            "9 19 28\n"
          ]
        }
      ]
    },
    {
      "cell_type": "code",
      "source": [
        "# print 함수의 템플릿 2가지\n",
        "print('num1 %d + num2 %d --> num3 %d' % (num1, num2, num3))"
      ],
      "metadata": {
        "colab": {
          "base_uri": "https://localhost:8080/"
        },
        "id": "UiEeSelmhj_Y",
        "outputId": "9a3854ef-dc47-4e1a-f765-855593f0defa"
      },
      "execution_count": null,
      "outputs": [
        {
          "output_type": "stream",
          "name": "stdout",
          "text": [
            "num1 9 + num2 19 --> num3 28\n"
          ]
        }
      ]
    },
    {
      "cell_type": "code",
      "source": [
        "print('num1 {} + num2 {} --> num3 {}'.format(num1, num2, num3))"
      ],
      "metadata": {
        "colab": {
          "base_uri": "https://localhost:8080/"
        },
        "id": "EJwhdNH3hnXT",
        "outputId": "6250bb66-5d10-4510-8989-331a96f3a7da"
      },
      "execution_count": null,
      "outputs": [
        {
          "output_type": "stream",
          "name": "stdout",
          "text": [
            "num1 9 + num2 19 --> num3 28\n"
          ]
        }
      ]
    },
    {
      "cell_type": "code",
      "source": [
        "s11 = 'Learning Python '\n",
        "s12 = 'is \"easy\".'\n",
        "s13 = s11 + s12\n",
        "\n",
        "print(s13)      #--> Learning Python is \"easy\".\n",
        "print(len(s13)) #--> 26 (문자열의 길이 공백포함)\n",
        "print(s13[0])   #--> L\n",
        "print(s13[25])  #--> ."
      ],
      "metadata": {
        "colab": {
          "base_uri": "https://localhost:8080/"
        },
        "id": "LkyqWGYOhwBq",
        "outputId": "7767c0df-e978-4c4b-ef3f-a480086f5a8e"
      },
      "execution_count": null,
      "outputs": [
        {
          "output_type": "stream",
          "name": "stdout",
          "text": [
            "Learning Python is \"easy\".\n",
            "26\n",
            "L\n",
            ".\n"
          ]
        }
      ]
    },
    {
      "cell_type": "code",
      "source": [
        "print(s13[0:8])     #--> Learning\n",
        "print(s13[9:15])     #--> Python\n",
        "print(s13[-1])      #--> .\n",
        "print(s13[-17:-11]) #--> Python"
      ],
      "metadata": {
        "colab": {
          "base_uri": "https://localhost:8080/"
        },
        "id": "OI30NFYCh13n",
        "outputId": "8f521ff4-d44f-4bb0-a968-d05e1f53ccee"
      },
      "execution_count": null,
      "outputs": [
        {
          "output_type": "stream",
          "name": "stdout",
          "text": [
            "Learning\n",
            "Python\n",
            ".\n",
            "Python\n"
          ]
        }
      ]
    },
    {
      "cell_type": "code",
      "source": [
        "print(s13[-7:])"
      ],
      "metadata": {
        "colab": {
          "base_uri": "https://localhost:8080/"
        },
        "id": "BJCIRdllh6WE",
        "outputId": "4247c31a-a81f-4739-ade4-ad0de9351b12"
      },
      "execution_count": null,
      "outputs": [
        {
          "output_type": "stream",
          "name": "stdout",
          "text": [
            "\"easy\".\n"
          ]
        }
      ]
    },
    {
      "cell_type": "code",
      "source": [
        "s18 = 'Learning Python'\n",
        "\n",
        "##########\n",
        "#  1. s18에서 n의 개수를 세시오\n",
        "###########"
      ],
      "metadata": {
        "id": "zef9qbn3E3jD"
      },
      "execution_count": null,
      "outputs": []
    },
    {
      "cell_type": "code",
      "source": [
        "s18.count('n')"
      ],
      "metadata": {
        "colab": {
          "base_uri": "https://localhost:8080/"
        },
        "id": "FJunGnnTFf0l",
        "outputId": "367a9de3-b760-49f9-ed77-3b89aa87ce27"
      },
      "execution_count": null,
      "outputs": [
        {
          "output_type": "execute_result",
          "data": {
            "text/plain": [
              "3"
            ]
          },
          "metadata": {},
          "execution_count": 4
        }
      ]
    },
    {
      "cell_type": "code",
      "source": [
        "# #########\n",
        "#  2. 띄어쓰기를 기준으로 두 단어를 분리하시오.\n",
        "# #########"
      ],
      "metadata": {
        "id": "Hyqi8T7lFG4G"
      },
      "execution_count": null,
      "outputs": []
    },
    {
      "cell_type": "code",
      "source": [
        "s18.split(' ')"
      ],
      "metadata": {
        "colab": {
          "base_uri": "https://localhost:8080/"
        },
        "id": "SBmHDqh3Fo4I",
        "outputId": "e07e3b81-003d-4138-f941-d9067b1b6712"
      },
      "execution_count": null,
      "outputs": [
        {
          "output_type": "execute_result",
          "data": {
            "text/plain": [
              "['Learning', 'Python']"
            ]
          },
          "metadata": {},
          "execution_count": 5
        }
      ]
    },
    {
      "cell_type": "code",
      "source": [
        "# #########\n",
        "#  3. Python의 index를 표시하시오.\n",
        "# #########"
      ],
      "metadata": {
        "id": "Lm_RKGdWE2Xk"
      },
      "execution_count": null,
      "outputs": []
    },
    {
      "cell_type": "code",
      "source": [
        "s18.index('Python')"
      ],
      "metadata": {
        "colab": {
          "base_uri": "https://localhost:8080/"
        },
        "id": "2bh4IrVMFrMp",
        "outputId": "748cbd92-f1d7-4806-e436-d4bda4c89cf4"
      },
      "execution_count": null,
      "outputs": [
        {
          "output_type": "execute_result",
          "data": {
            "text/plain": [
              "9"
            ]
          },
          "metadata": {},
          "execution_count": 6
        }
      ]
    },
    {
      "cell_type": "code",
      "source": [
        "# #########\n",
        "#  4. Python을 Data Science로 치환하시오.\n",
        "# #########"
      ],
      "metadata": {
        "id": "s2NjU_XlFWcq"
      },
      "execution_count": null,
      "outputs": []
    },
    {
      "cell_type": "code",
      "source": [
        "s18.replace('Python','Data Science')"
      ],
      "metadata": {
        "colab": {
          "base_uri": "https://localhost:8080/",
          "height": 36
        },
        "id": "kTSPog_WFuC8",
        "outputId": "5f16ba57-36b0-4c72-9e03-f7e4860d4263"
      },
      "execution_count": null,
      "outputs": [
        {
          "output_type": "execute_result",
          "data": {
            "text/plain": [
              "'Learning Data Science'"
            ],
            "application/vnd.google.colaboratory.intrinsic+json": {
              "type": "string"
            }
          },
          "metadata": {},
          "execution_count": 7
        }
      ]
    },
    {
      "cell_type": "code",
      "source": [
        "s19 = '   Learning Python is Easy.   '\n",
        "\n",
        "# #########\n",
        "#  1. 왼쪽 공백을 없애시오.\n",
        "# #########"
      ],
      "metadata": {
        "id": "H0AaXr2sF0x0"
      },
      "execution_count": null,
      "outputs": []
    },
    {
      "cell_type": "code",
      "source": [
        "s19.lstrip()"
      ],
      "metadata": {
        "colab": {
          "base_uri": "https://localhost:8080/",
          "height": 36
        },
        "id": "AqPHk-LPGMMK",
        "outputId": "91f5ec8a-4656-48fc-d1e5-bc457e6e0bd3"
      },
      "execution_count": null,
      "outputs": [
        {
          "output_type": "execute_result",
          "data": {
            "text/plain": [
              "'Learning Python is Easy.   '"
            ],
            "application/vnd.google.colaboratory.intrinsic+json": {
              "type": "string"
            }
          },
          "metadata": {},
          "execution_count": 10
        }
      ]
    },
    {
      "cell_type": "code",
      "source": [
        "# #########\n",
        "#  2. 오른쪽 공백을 없애시오.\n",
        "# #########"
      ],
      "metadata": {
        "id": "Oo6H1qP_GGF6"
      },
      "execution_count": null,
      "outputs": []
    },
    {
      "cell_type": "code",
      "source": [
        "s19.rstrip()"
      ],
      "metadata": {
        "colab": {
          "base_uri": "https://localhost:8080/",
          "height": 36
        },
        "id": "8FaEMwJ8GPdy",
        "outputId": "b75e03d0-189b-4bb1-91c9-77964d4dfbca"
      },
      "execution_count": null,
      "outputs": [
        {
          "output_type": "execute_result",
          "data": {
            "text/plain": [
              "'   Learning Python is Easy.'"
            ],
            "application/vnd.google.colaboratory.intrinsic+json": {
              "type": "string"
            }
          },
          "metadata": {},
          "execution_count": 11
        }
      ]
    },
    {
      "cell_type": "code",
      "source": [
        "# #########\n",
        "#  3. 양쪽 공백을 없애시오.\n",
        "# #########"
      ],
      "metadata": {
        "id": "t1CPp1NsGIBY"
      },
      "execution_count": null,
      "outputs": []
    },
    {
      "cell_type": "code",
      "source": [
        "s19.strip()"
      ],
      "metadata": {
        "colab": {
          "base_uri": "https://localhost:8080/",
          "height": 36
        },
        "id": "8ayWPlLAGSQi",
        "outputId": "9c13c2d8-d89e-4a4c-9f98-d338443ebc07"
      },
      "execution_count": null,
      "outputs": [
        {
          "output_type": "execute_result",
          "data": {
            "text/plain": [
              "'Learning Python is Easy.'"
            ],
            "application/vnd.google.colaboratory.intrinsic+json": {
              "type": "string"
            }
          },
          "metadata": {},
          "execution_count": 12
        }
      ]
    },
    {
      "cell_type": "code",
      "execution_count": null,
      "metadata": {
        "colab": {
          "base_uri": "https://localhost:8080/"
        },
        "id": "jF77KTjqB5K2",
        "outputId": "354e2a90-5382-4a68-ccfc-ca90f0d8241a"
      },
      "outputs": [
        {
          "output_type": "stream",
          "name": "stdout",
          "text": [
            "4\n"
          ]
        }
      ],
      "source": [
        "###############################################################################\n",
        "#\n",
        "#   [1]. 아래 계산 결과를 구하고 화면에 출력하시오.\n",
        "#\n",
        "#   5를 제곱한 수를 7로 나눈 나머지 값은 얼마인가?\n",
        "#\n",
        "###############################################################################\n",
        "\n",
        "n = 5**2%7\n",
        "print(n)"
      ]
    },
    {
      "cell_type": "code",
      "source": [
        "###############################################################################\n",
        "#\n",
        "#   [2]. 아래 계산 결과를 구하고 화면에 출력하시오.\n",
        "#\n",
        "#   하나의 변수를 이용하여 1부터 10까지의 자연수의 합을 구하시오.\n",
        "#\n",
        "###############################################################################\n",
        "\n",
        "n = 0\n",
        "n = n + 1\n",
        "n = n + 2\n",
        "n = n + 3\n",
        "n = n + 4\n",
        "n = n + 5\n",
        "n = n + 6\n",
        "n = n + 7\n",
        "n = n + 8\n",
        "n = n + 9\n",
        "n = n + 10\n",
        "\n",
        "# Describe your code\n",
        "\n",
        "print(n)\n"
      ],
      "metadata": {
        "colab": {
          "base_uri": "https://localhost:8080/"
        },
        "id": "inveFTsvCDpZ",
        "outputId": "69497956-8288-413e-c004-3faf4ae52c9e"
      },
      "execution_count": null,
      "outputs": [
        {
          "output_type": "stream",
          "name": "stdout",
          "text": [
            "55\n"
          ]
        }
      ]
    },
    {
      "cell_type": "code",
      "source": [
        "###############################################################################\n",
        "#\n",
        "#   [3]. 비교 연산의 결과인 b, b2를 화면에 출력하고 이 두 결과를 or 연산한 결과를 출력하시오.\n",
        "#\n",
        "#   b = 3=='3'\n",
        "#   b2 = (3*2) < 7\n",
        "#\n",
        "###############################################################################\n",
        "\n",
        "b = 3=='3'\n",
        "b2 = (3*2) < 7\n",
        "\n",
        "print(b)\n",
        "print(b2)\n",
        "\n",
        "print(b or b2)"
      ],
      "metadata": {
        "colab": {
          "base_uri": "https://localhost:8080/"
        },
        "id": "yvHE8emLCFl4",
        "outputId": "f33383cb-290f-467e-a7cb-1fd3bde48e63"
      },
      "execution_count": null,
      "outputs": [
        {
          "output_type": "stream",
          "name": "stdout",
          "text": [
            "False\n",
            "True\n",
            "True\n"
          ]
        }
      ]
    },
    {
      "cell_type": "code",
      "source": [
        "print('b : {} / b2 : {}'.format(b, b2))"
      ],
      "metadata": {
        "colab": {
          "base_uri": "https://localhost:8080/"
        },
        "id": "qGBHtTyEGXx_",
        "outputId": "88d6e7ab-5dbf-43a2-8a9a-82a800ab07bc"
      },
      "execution_count": null,
      "outputs": [
        {
          "output_type": "stream",
          "name": "stdout",
          "text": [
            "b : False / b2 : True\n"
          ]
        }
      ]
    },
    {
      "cell_type": "code",
      "source": [
        "###############################################################################\n",
        "#\n",
        "#   [4]. 아래 문장을 파이썬 문자열 데이터로 표현하고 변수 s에 저장하는 코드를 완성하시오.\n",
        "#\n",
        "#   Do not be afraid to try, whether you succeed or not.\n",
        "#\n",
        "###############################################################################\n",
        "\n",
        "s = 'Do not be afraid to try, whether you succeed or not.'\n",
        "print(s)"
      ],
      "metadata": {
        "colab": {
          "base_uri": "https://localhost:8080/"
        },
        "id": "X5m929U8CIoI",
        "outputId": "b03fc208-53b2-4e53-b466-a1719b3196ec"
      },
      "execution_count": null,
      "outputs": [
        {
          "output_type": "stream",
          "name": "stdout",
          "text": [
            "Do not be afraid to try, whether you succeed or not.\n"
          ]
        }
      ]
    },
    {
      "cell_type": "code",
      "source": [
        "###############################################################################\n",
        "#\n",
        "#   [5]. 문자열 함수 중 split() 함수를 사용하여\n",
        "#   문제 [4]에서 생성한 문자열 데이터를 쉼표를 기준으로 두 부분으로 나누는 파이썬 코드를 작성하시오.\n",
        "#\n",
        "#   * split() 함수는 ()안에 전달한 문자를 기준으로 문자열을 잘라서 리스트에 넣어줍니다.\n",
        "#\n",
        "#   Do not be afraid to try, whether you succeed or not.\n",
        "#\n",
        "###############################################################################\n",
        "from os.path import split\n",
        "\n",
        "s2 = s.split(\",\")\n",
        "print(s2)"
      ],
      "metadata": {
        "colab": {
          "base_uri": "https://localhost:8080/"
        },
        "id": "rO1sd95gCHMt",
        "outputId": "f9df5e1c-aec0-43f3-8fdf-c3216c331d3c"
      },
      "execution_count": null,
      "outputs": [
        {
          "output_type": "stream",
          "name": "stdout",
          "text": [
            "['Do not be afraid to try', ' whether you succeed or not.']\n"
          ]
        }
      ]
    },
    {
      "cell_type": "code",
      "source": [
        "s"
      ],
      "metadata": {
        "id": "U_9kRz2FGs3R"
      },
      "execution_count": null,
      "outputs": []
    },
    {
      "cell_type": "code",
      "source": [
        "###############################################################################\n",
        "#\n",
        "#   [6]. 문자열 함수 중 index() 함수와 문자열 슬라이싱 방법을 이용해서\n",
        "#   문제 [4]에서 생성한 문자열 데이터에서 Do not be afraid to try 부분을 읽는 파이썬 코드를 작성하시오.\n",
        "#\n",
        "#   * index() 함수는 ()안에 전달한 문자열 패턴의 시작 인덱스를 찾아서 반환해줍니다.\n",
        "#\n",
        "#   Do not be afraid to try, whether you succeed or not.\n",
        "#\n",
        "###############################################################################"
      ],
      "metadata": {
        "id": "5qT_PvWCCGoy"
      },
      "execution_count": null,
      "outputs": []
    },
    {
      "cell_type": "code",
      "source": [
        "last = s.index(', ')\n",
        "\n",
        "s[:last]"
      ],
      "metadata": {
        "colab": {
          "base_uri": "https://localhost:8080/",
          "height": 36
        },
        "id": "6h9XFJ5OGxwZ",
        "outputId": "77a82ef6-5504-4982-8014-2b97bbc07fab"
      },
      "execution_count": null,
      "outputs": [
        {
          "output_type": "execute_result",
          "data": {
            "text/plain": [
              "'Do not be afraid to try'"
            ],
            "application/vnd.google.colaboratory.intrinsic+json": {
              "type": "string"
            }
          },
          "metadata": {},
          "execution_count": 20
        }
      ]
    }
  ]
}