{
  "nbformat": 4,
  "nbformat_minor": 0,
  "metadata": {
    "colab": {
      "provenance": [],
      "authorship_tag": "ABX9TyPICKcSO4hTwvg+6Jz8NcA0"
    },
    "kernelspec": {
      "name": "python3",
      "display_name": "Python 3"
    },
    "language_info": {
      "name": "python"
    }
  },
  "cells": [
    {
      "cell_type": "markdown",
      "source": [
        "https://pythontutor.com/"
      ],
      "metadata": {
        "id": "3PkYI6tQ6cCU"
      }
    },
    {
      "cell_type": "markdown",
      "source": [
        "# [반복문] for, while\n",
        "\n",
        "## * for : 유한개의 원소를 반복\n",
        "## * while : 조건이 참이 될 때까지 무한히 코드를 반복"
      ],
      "metadata": {
        "id": "dneAJMSuv_53"
      }
    },
    {
      "cell_type": "code",
      "source": [
        "# 10 이하의 홀수 list 생성\n",
        "\n",
        "oddNumbers = []\n",
        "for i in range(0,5):\n",
        "  n = 2*i + 1\n",
        "  oddNumbers.append(n)\n",
        "\n",
        "print(oddNumbers)"
      ],
      "metadata": {
        "colab": {
          "base_uri": "https://localhost:8080/"
        },
        "id": "J-PouANFwALy",
        "outputId": "abe1415b-6a03-4db7-b606-1365ea4d36d0"
      },
      "execution_count": null,
      "outputs": [
        {
          "output_type": "stream",
          "name": "stdout",
          "text": [
            "[1, 3, 5, 7, 9]\n"
          ]
        }
      ]
    },
    {
      "cell_type": "code",
      "source": [
        "for item in oddNumbers:\n",
        "  print(item)"
      ],
      "metadata": {
        "colab": {
          "base_uri": "https://localhost:8080/"
        },
        "id": "4IdQRiqey-jN",
        "outputId": "9b942cce-a9cc-4c96-b886-1e126700f93d"
      },
      "execution_count": null,
      "outputs": [
        {
          "output_type": "stream",
          "name": "stdout",
          "text": [
            "1\n",
            "3\n",
            "5\n",
            "7\n",
            "9\n"
          ]
        }
      ]
    },
    {
      "cell_type": "markdown",
      "source": [
        "## range(시작, 끝, 증분)"
      ],
      "metadata": {
        "id": "bKbJPrtiyJt-"
      }
    },
    {
      "cell_type": "code",
      "source": [
        "print(range(1,10,2))"
      ],
      "metadata": {
        "colab": {
          "base_uri": "https://localhost:8080/"
        },
        "id": "3zHM3cb1xpqX",
        "outputId": "3b2c5350-cc3d-47cd-98df-654d675177bb"
      },
      "execution_count": null,
      "outputs": [
        {
          "output_type": "stream",
          "name": "stdout",
          "text": [
            "range(1, 10, 2)\n"
          ]
        }
      ]
    },
    {
      "cell_type": "code",
      "source": [
        "print(list(range(1,10,2)))"
      ],
      "metadata": {
        "colab": {
          "base_uri": "https://localhost:8080/"
        },
        "id": "GebJSuzaxxJh",
        "outputId": "6f2b1ca4-2d27-4e0e-d295-93e97d598c3e"
      },
      "execution_count": null,
      "outputs": [
        {
          "output_type": "stream",
          "name": "stdout",
          "text": [
            "[1, 3, 5, 7, 9]\n"
          ]
        }
      ]
    },
    {
      "cell_type": "code",
      "source": [],
      "metadata": {
        "id": "SPrVt123v1KT"
      },
      "execution_count": null,
      "outputs": []
    },
    {
      "cell_type": "code",
      "source": [
        "for i in range(0,10,2):\n",
        "  print(i)"
      ],
      "metadata": {
        "colab": {
          "base_uri": "https://localhost:8080/"
        },
        "id": "W1AL1FagxapZ",
        "outputId": "5ab4fd9a-3c8e-4e09-a2df-724106badf3a"
      },
      "execution_count": null,
      "outputs": [
        {
          "output_type": "stream",
          "name": "stdout",
          "text": [
            "0\n",
            "2\n",
            "4\n",
            "6\n",
            "8\n"
          ]
        }
      ]
    },
    {
      "cell_type": "markdown",
      "source": [
        "## for 반복문 원소가 list일 수 있음"
      ],
      "metadata": {
        "id": "HXr9fEavzC5k"
      }
    },
    {
      "cell_type": "code",
      "source": [
        "nums = [[1,2], [3,4], [5,6], [7,8], [9,0]]\n",
        "\n",
        "for pair in nums:\n",
        "  print(pair)"
      ],
      "metadata": {
        "colab": {
          "base_uri": "https://localhost:8080/"
        },
        "id": "QF5IEvgHy0fN",
        "outputId": "5e38cdcc-3f46-460b-8a66-55f54df89ef2"
      },
      "execution_count": null,
      "outputs": [
        {
          "output_type": "stream",
          "name": "stdout",
          "text": [
            "[1, 2]\n",
            "[3, 4]\n",
            "[5, 6]\n",
            "[7, 8]\n",
            "[9, 0]\n"
          ]
        }
      ]
    },
    {
      "cell_type": "code",
      "source": [
        "for pair in nums:\n",
        "  print(pair[0], pair[1])"
      ],
      "metadata": {
        "colab": {
          "base_uri": "https://localhost:8080/"
        },
        "id": "Zey8iHBazc4o",
        "outputId": "33781353-9564-4b03-9fd1-bf34eaf34b02"
      },
      "execution_count": null,
      "outputs": [
        {
          "output_type": "stream",
          "name": "stdout",
          "text": [
            "1 2\n",
            "3 4\n",
            "5 6\n",
            "7 8\n",
            "9 0\n"
          ]
        }
      ]
    },
    {
      "cell_type": "code",
      "source": [
        "for pair in nums:\n",
        "  print(pair[0], pair[1])"
      ],
      "metadata": {
        "colab": {
          "base_uri": "https://localhost:8080/"
        },
        "id": "ulDW7qCgwRqI",
        "outputId": "b6940afd-b4a9-4837-a973-23d58ceee5b8"
      },
      "execution_count": null,
      "outputs": [
        {
          "output_type": "stream",
          "name": "stdout",
          "text": [
            "1 2\n",
            "3 4\n",
            "5 6\n",
            "7 8\n",
            "9 0\n"
          ]
        }
      ]
    },
    {
      "cell_type": "code",
      "source": [
        "for i, j in nums:\n",
        "  print(i, j)"
      ],
      "metadata": {
        "colab": {
          "base_uri": "https://localhost:8080/"
        },
        "id": "48MKx66LwWqt",
        "outputId": "471fd150-7c74-419c-fc25-0afdebed90ee"
      },
      "execution_count": null,
      "outputs": [
        {
          "output_type": "stream",
          "name": "stdout",
          "text": [
            "1 2\n",
            "3 4\n",
            "5 6\n",
            "7 8\n",
            "9 0\n"
          ]
        }
      ]
    },
    {
      "cell_type": "code",
      "source": [
        "# 아래처럼 변수를 선언할 경우 nums가 꼭 두개의 원소를 가져야함\n",
        "# nums = [[1,2], [3,4], [5,6], [7,8], [9,0,1]] 이면 에러남\n",
        "\n",
        "for (o,e) in nums:\n",
        "  print(f'odd :{o} , even : {e}')"
      ],
      "metadata": {
        "colab": {
          "base_uri": "https://localhost:8080/"
        },
        "id": "lXOb301rzeRZ",
        "outputId": "9589b178-fd6f-4702-f7bf-07e1b2514bae"
      },
      "execution_count": null,
      "outputs": [
        {
          "output_type": "stream",
          "name": "stdout",
          "text": [
            "odd :1 , even : 2\n",
            "odd :3 , even : 4\n",
            "odd :5 , even : 6\n",
            "odd :7 , even : 8\n",
            "odd :9 , even : 0\n"
          ]
        }
      ]
    },
    {
      "cell_type": "markdown",
      "source": [
        "## for 반복문 중첩 구조\n",
        "\n",
        "반복문 내 반복문을 넣을 수 있음"
      ],
      "metadata": {
        "id": "idKN8Lyv0Vfy"
      }
    },
    {
      "cell_type": "code",
      "source": [
        "for outer in range(1,6):\n",
        "  for inner in range(1,6):\n",
        "    print('%2d' % (outer*inner), end=\" \")\n",
        "\n",
        "    #'2%d' 두자리수에 맞춰서 공백을 맞춰주는 용도\n",
        "    # end= \" \" print 함수는 원래 줄바꿈을 진행하는데, 줄을 바꾸지말고 옆으로 한칸 떼라는 의미\n",
        "\n",
        "  print('') # 줄바꿈"
      ],
      "metadata": {
        "colab": {
          "base_uri": "https://localhost:8080/"
        },
        "id": "JCLw0WryzsTz",
        "outputId": "786c5c97-4e55-49af-f204-8602db5ae4b5"
      },
      "execution_count": null,
      "outputs": [
        {
          "output_type": "stream",
          "name": "stdout",
          "text": [
            " 1  2  3  4  5 \n",
            " 2  4  6  8 10 \n",
            " 3  6  9 12 15 \n",
            " 4  8 12 16 20 \n",
            " 5 10 15 20 25 \n"
          ]
        }
      ]
    },
    {
      "cell_type": "code",
      "source": [
        "for outer in range(1,4):\n",
        "  for inner in range(1,4):\n",
        "    print('%2d' % (outer * inner), end=' ')\n",
        "  print('') # 내부반복문, 외부반복문을 잘 구분하기 어려우니까 내부반복문 끝나면 줄바꿈을 진행"
      ],
      "metadata": {
        "colab": {
          "base_uri": "https://localhost:8080/"
        },
        "id": "Xw1ytm0W2BgN",
        "outputId": "29bb07ca-cd5e-4919-d521-5d248772d350"
      },
      "execution_count": null,
      "outputs": [
        {
          "output_type": "stream",
          "name": "stdout",
          "text": [
            " 1  2  3 \n",
            " 2  4  6 \n",
            " 3  6  9 \n"
          ]
        }
      ]
    },
    {
      "cell_type": "markdown",
      "source": [
        "## 반복문 중단(break), 건너뛰기(continue)\n",
        "\n",
        "* break : 반복문을 아예 실행하지 말고 빠져나온다\n",
        "* continue : 이번 원소는 건너뛰고 반복문의 다음 원소로 넘어간다"
      ],
      "metadata": {
        "id": "u6JvGrgo224D"
      }
    },
    {
      "cell_type": "code",
      "source": [
        "# break\n",
        "\n",
        "for outer in range(1, 10):\n",
        "  for inner in range(1, 10):\n",
        "    if inner % 2 == 0:\n",
        "      break # inner = 2가 되면 반복문을 빠져나오게됨\n",
        "    else:\n",
        "      print('%2d' % (outer * inner), end=' ')\n",
        "  print('')"
      ],
      "metadata": {
        "colab": {
          "base_uri": "https://localhost:8080/"
        },
        "id": "UYQhNIrV21z0",
        "outputId": "905eeaa6-33fc-428b-8f2e-479c3355e0be"
      },
      "execution_count": null,
      "outputs": [
        {
          "output_type": "stream",
          "name": "stdout",
          "text": [
            " 1 \n",
            " 2 \n",
            " 3 \n",
            " 4 \n",
            " 5 \n",
            " 6 \n",
            " 7 \n",
            " 8 \n",
            " 9 \n"
          ]
        }
      ]
    },
    {
      "cell_type": "code",
      "source": [
        "# continue\n",
        "\n",
        "for outer in range(1, 10):\n",
        "  for inner in range(1, 10):\n",
        "    if inner % 2 == 0:\n",
        "      continue\n",
        "    else:\n",
        "      print('%2d' % (outer * inner), end=' ')\n",
        "  print('')"
      ],
      "metadata": {
        "colab": {
          "base_uri": "https://localhost:8080/"
        },
        "id": "Ix9_i4C23qxI",
        "outputId": "724361ea-d99f-4b20-ee8c-496682b3df60"
      },
      "execution_count": null,
      "outputs": [
        {
          "output_type": "stream",
          "name": "stdout",
          "text": [
            " 1  3  5  7  9 \n",
            " 2  6 10 14 18 \n",
            " 3  9 15 21 27 \n",
            " 4 12 20 28 36 \n",
            " 5 15 25 35 45 \n",
            " 6 18 30 42 54 \n",
            " 7 21 35 49 63 \n",
            " 8 24 40 56 72 \n",
            " 9 27 45 63 81 \n"
          ]
        }
      ]
    },
    {
      "cell_type": "code",
      "source": [
        "nums = range(1, 20, 1)\n",
        "\n",
        "for idx, item in enumerate(nums): # enumerate : 리스트에 있는 원소와 인덱스를 반환함\n",
        "  if idx%2 == 0:\n",
        "    print(item, end=\" \")\n",
        "  else:\n",
        "    continue"
      ],
      "metadata": {
        "colab": {
          "base_uri": "https://localhost:8080/"
        },
        "id": "ifPl7cYr4v3M",
        "outputId": "22b9e10b-a8ca-4efa-d9b7-664fbdda7322"
      },
      "execution_count": null,
      "outputs": [
        {
          "output_type": "stream",
          "name": "stdout",
          "text": [
            "1 3 5 7 9 11 13 15 17 19 "
          ]
        }
      ]
    },
    {
      "cell_type": "markdown",
      "source": [
        "## List comprehension : 반복문의 결과를 리스트로 변환하는 것\n",
        "\n",
        "[ 코드블록(명령절) for i in range(a,b) ]\n",
        "* 간단한 명령절을 적는게 좋음"
      ],
      "metadata": {
        "id": "q3MAoJZR5YPg"
      }
    },
    {
      "cell_type": "code",
      "source": [
        "oddNumbers = [i+1 for i in range(0,10,2)]\n",
        "print(oddNumbers)"
      ],
      "metadata": {
        "colab": {
          "base_uri": "https://localhost:8080/"
        },
        "id": "nvMg53Qe5fXf",
        "outputId": "07f6819d-5bee-43c1-a24e-66d9706456a0"
      },
      "execution_count": null,
      "outputs": [
        {
          "output_type": "stream",
          "name": "stdout",
          "text": [
            "[1, 3, 5, 7, 9]\n"
          ]
        }
      ]
    },
    {
      "cell_type": "code",
      "source": [
        "evenNumbers = [i+1 for i in oddNumbers]\n",
        "print(evenNumbers)"
      ],
      "metadata": {
        "colab": {
          "base_uri": "https://localhost:8080/"
        },
        "id": "GbrjZb9j50V8",
        "outputId": "bb979c33-6596-43c9-c48f-e0839463124d"
      },
      "execution_count": null,
      "outputs": [
        {
          "output_type": "stream",
          "name": "stdout",
          "text": [
            "[2, 4, 6, 8, 10]\n"
          ]
        }
      ]
    },
    {
      "cell_type": "markdown",
      "source": [
        "## While 반복문\n",
        "\n",
        "조건을 충족할 때까지 무한 반복한다"
      ],
      "metadata": {
        "id": "SCR3vAx20wZb"
      }
    },
    {
      "cell_type": "code",
      "source": [
        "count = 0\n",
        "\n",
        "while count < 9:\n",
        "  print(count)\n",
        "  count = count + 1\n"
      ],
      "metadata": {
        "colab": {
          "base_uri": "https://localhost:8080/"
        },
        "id": "xzOrxZGGyuCj",
        "outputId": "51d12b8c-fdbc-45f2-a88d-279dc316f4eb"
      },
      "execution_count": null,
      "outputs": [
        {
          "output_type": "stream",
          "name": "stdout",
          "text": [
            "0\n",
            "1\n",
            "2\n",
            "3\n",
            "4\n",
            "5\n",
            "6\n",
            "7\n",
            "8\n"
          ]
        }
      ]
    },
    {
      "cell_type": "code",
      "source": [
        "while True:\n",
        "  n = int(input('숫자를 입력하세요:'))\n",
        "  if n <= 0:\n",
        "    print(n)"
      ],
      "metadata": {
        "colab": {
          "base_uri": "https://localhost:8080/",
          "height": 400
        },
        "id": "VBOgKyoQ08mW",
        "outputId": "94bc7471-4fcf-436e-949f-c9fb569e6624"
      },
      "execution_count": null,
      "outputs": [
        {
          "output_type": "stream",
          "name": "stdout",
          "text": [
            "숫자를 입력하세요:0\n",
            "0\n"
          ]
        },
        {
          "output_type": "error",
          "ename": "KeyboardInterrupt",
          "evalue": "Interrupted by user",
          "traceback": [
            "\u001b[0;31m---------------------------------------------------------------------------\u001b[0m",
            "\u001b[0;31mKeyboardInterrupt\u001b[0m                         Traceback (most recent call last)",
            "\u001b[0;32m<ipython-input-6-577cf4fbcf33>\u001b[0m in \u001b[0;36m<cell line: 1>\u001b[0;34m()\u001b[0m\n\u001b[1;32m      1\u001b[0m \u001b[0;32mwhile\u001b[0m \u001b[0;32mTrue\u001b[0m\u001b[0;34m:\u001b[0m\u001b[0;34m\u001b[0m\u001b[0;34m\u001b[0m\u001b[0m\n\u001b[0;32m----> 2\u001b[0;31m   \u001b[0mn\u001b[0m \u001b[0;34m=\u001b[0m \u001b[0mint\u001b[0m\u001b[0;34m(\u001b[0m\u001b[0minput\u001b[0m\u001b[0;34m(\u001b[0m\u001b[0;34m'숫자를 입력하세요:'\u001b[0m\u001b[0;34m)\u001b[0m\u001b[0;34m)\u001b[0m\u001b[0;34m\u001b[0m\u001b[0;34m\u001b[0m\u001b[0m\n\u001b[0m\u001b[1;32m      3\u001b[0m   \u001b[0;32mif\u001b[0m \u001b[0mn\u001b[0m \u001b[0;34m<=\u001b[0m \u001b[0;36m0\u001b[0m\u001b[0;34m:\u001b[0m\u001b[0;34m\u001b[0m\u001b[0;34m\u001b[0m\u001b[0m\n\u001b[1;32m      4\u001b[0m     \u001b[0mprint\u001b[0m\u001b[0;34m(\u001b[0m\u001b[0mn\u001b[0m\u001b[0;34m)\u001b[0m\u001b[0;34m\u001b[0m\u001b[0;34m\u001b[0m\u001b[0m\n",
            "\u001b[0;32m/usr/local/lib/python3.10/dist-packages/ipykernel/kernelbase.py\u001b[0m in \u001b[0;36mraw_input\u001b[0;34m(self, prompt)\u001b[0m\n\u001b[1;32m    849\u001b[0m                 \u001b[0;34m\"raw_input was called, but this frontend does not support input requests.\"\u001b[0m\u001b[0;34m\u001b[0m\u001b[0;34m\u001b[0m\u001b[0m\n\u001b[1;32m    850\u001b[0m             )\n\u001b[0;32m--> 851\u001b[0;31m         return self._input_request(str(prompt),\n\u001b[0m\u001b[1;32m    852\u001b[0m             \u001b[0mself\u001b[0m\u001b[0;34m.\u001b[0m\u001b[0m_parent_ident\u001b[0m\u001b[0;34m,\u001b[0m\u001b[0;34m\u001b[0m\u001b[0;34m\u001b[0m\u001b[0m\n\u001b[1;32m    853\u001b[0m             \u001b[0mself\u001b[0m\u001b[0;34m.\u001b[0m\u001b[0m_parent_header\u001b[0m\u001b[0;34m,\u001b[0m\u001b[0;34m\u001b[0m\u001b[0;34m\u001b[0m\u001b[0m\n",
            "\u001b[0;32m/usr/local/lib/python3.10/dist-packages/ipykernel/kernelbase.py\u001b[0m in \u001b[0;36m_input_request\u001b[0;34m(self, prompt, ident, parent, password)\u001b[0m\n\u001b[1;32m    893\u001b[0m             \u001b[0;32mexcept\u001b[0m \u001b[0mKeyboardInterrupt\u001b[0m\u001b[0;34m:\u001b[0m\u001b[0;34m\u001b[0m\u001b[0;34m\u001b[0m\u001b[0m\n\u001b[1;32m    894\u001b[0m                 \u001b[0;31m# re-raise KeyboardInterrupt, to truncate traceback\u001b[0m\u001b[0;34m\u001b[0m\u001b[0;34m\u001b[0m\u001b[0m\n\u001b[0;32m--> 895\u001b[0;31m                 \u001b[0;32mraise\u001b[0m \u001b[0mKeyboardInterrupt\u001b[0m\u001b[0;34m(\u001b[0m\u001b[0;34m\"Interrupted by user\"\u001b[0m\u001b[0;34m)\u001b[0m \u001b[0;32mfrom\u001b[0m \u001b[0;32mNone\u001b[0m\u001b[0;34m\u001b[0m\u001b[0;34m\u001b[0m\u001b[0m\n\u001b[0m\u001b[1;32m    896\u001b[0m             \u001b[0;32mexcept\u001b[0m \u001b[0mException\u001b[0m \u001b[0;32mas\u001b[0m \u001b[0me\u001b[0m\u001b[0;34m:\u001b[0m\u001b[0;34m\u001b[0m\u001b[0;34m\u001b[0m\u001b[0m\n\u001b[1;32m    897\u001b[0m                 \u001b[0mself\u001b[0m\u001b[0;34m.\u001b[0m\u001b[0mlog\u001b[0m\u001b[0;34m.\u001b[0m\u001b[0mwarning\u001b[0m\u001b[0;34m(\u001b[0m\u001b[0;34m\"Invalid Message:\"\u001b[0m\u001b[0;34m,\u001b[0m \u001b[0mexc_info\u001b[0m\u001b[0;34m=\u001b[0m\u001b[0;32mTrue\u001b[0m\u001b[0;34m)\u001b[0m\u001b[0;34m\u001b[0m\u001b[0;34m\u001b[0m\u001b[0m\n",
            "\u001b[0;31mKeyboardInterrupt\u001b[0m: Interrupted by user"
          ]
        }
      ]
    },
    {
      "cell_type": "markdown",
      "source": [
        "## 데이터의 복사\n",
        "• 얕은 복사: 서로 다른 변수들이 같은 데이터를 가리킨다.\n",
        "\n",
        "\n",
        "• 깊은 복사: 서로 다른 변수들이 다른 데이터를 가리킨다.\n",
        "\n",
        "\n",
        "• 특별한 경우가 아니면 깊은 복사로 데이터를 복사해야 한다.\n",
        "\n",
        "* 깊은 복사를 사용해야 복사본을 수정해도 원본은 수정되지 않는다."
      ],
      "metadata": {
        "id": "4Uxks4tE2oQo"
      }
    },
    {
      "cell_type": "code",
      "source": [
        "a = [1, 3, 5, 7, 9]\n",
        "a3 = []\n",
        "\n",
        "for num in a:\n",
        "  a3.append(num)\n",
        "\n",
        "a3.append(11)\n",
        "\n",
        "print(f'a: {a}')\n",
        "print(f'a3: {a3}')"
      ],
      "metadata": {
        "colab": {
          "base_uri": "https://localhost:8080/"
        },
        "id": "kGzhmoJb2tsl",
        "outputId": "7036ea2c-94e9-4435-8107-1fe51cd9d1fe"
      },
      "execution_count": null,
      "outputs": [
        {
          "output_type": "stream",
          "name": "stdout",
          "text": [
            "a: [1, 3, 5, 7, 9]\n",
            "a3: [1, 3, 5, 7, 9, 11]\n"
          ]
        }
      ]
    },
    {
      "cell_type": "markdown",
      "source": [
        "## [Exercise]"
      ],
      "metadata": {
        "id": "dteUGeuMvyVV"
      }
    },
    {
      "cell_type": "code",
      "execution_count": null,
      "metadata": {
        "colab": {
          "base_uri": "https://localhost:8080/"
        },
        "id": "mK9VmSc6vRsN",
        "outputId": "0bfb6279-a97e-4a26-e05b-085e893258d8"
      },
      "outputs": [
        {
          "output_type": "stream",
          "name": "stdout",
          "text": [
            "1\n",
            "2\n",
            "3\n",
            "4\n",
            "5\n",
            "6\n",
            "7\n",
            "8\n",
            "9\n",
            "10\n"
          ]
        }
      ],
      "source": [
        "#######################################################################################\n",
        "#\n",
        "#   1. 1~10의 숫자로 이루어진 리스트에서 for 반복문을 이용해서 리스트의 원소들을 출력하시오.\n",
        "#\n",
        "#######################################################################################\n",
        "\n",
        "numUnderTen = [1, 2, 3, 4, 5, 6, 7, 8, 9, 10]\n",
        "\n",
        "for i in numUnderTen:\n",
        "    print(i)"
      ]
    },
    {
      "cell_type": "code",
      "source": [
        "#######################################################################################\n",
        "#\n",
        "#   2. 1~10의 숫자로 이루어진 리스트를 range() 함수를 이용해서 생성하고,\n",
        "#   생성한 리스트의 원소들을 for 반복문을 이용해서 출력하시오.\n",
        "#\n",
        "#######################################################################################\n",
        "\n",
        "numUnderTen2 = [num+1 for num in range(0,10,1)]\n",
        "print('numUnerTen2:',numUnderTen2)\n",
        "\n",
        "for i in numUnderTen:\n",
        "    print(i)"
      ],
      "metadata": {
        "colab": {
          "base_uri": "https://localhost:8080/"
        },
        "id": "kQfWAXuVvat3",
        "outputId": "db401f09-819d-4c75-dbc0-b0e3b8d42127"
      },
      "execution_count": null,
      "outputs": [
        {
          "output_type": "stream",
          "name": "stdout",
          "text": [
            "numUnerTen2: [1, 2, 3, 4, 5, 6, 7, 8, 9, 10]\n",
            "1\n",
            "2\n",
            "3\n",
            "4\n",
            "5\n",
            "6\n",
            "7\n",
            "8\n",
            "9\n",
            "10\n"
          ]
        }
      ]
    },
    {
      "cell_type": "code",
      "source": [
        "#######################################################################################\n",
        "#\n",
        "#   3. 1~10의 숫자로 구성된 리스트를 생성하고(문제 1, 문제 2 방법 중 어떤 방법도 좋음),\n",
        "#   for 반복문과 if-else 조건문을 이용하여 리스트에서 짝수 만 출력하시오.\n",
        "#\n",
        "#######################################################################################\n",
        "\n",
        "numUnderTen3 = [ num+1 for num in range(0,10,1)]\n",
        "\n",
        "for item in numUnderTen3:\n",
        "    if item%2 == 1:\n",
        "        continue\n",
        "    else:\n",
        "        print(item)"
      ],
      "metadata": {
        "colab": {
          "base_uri": "https://localhost:8080/"
        },
        "id": "rCODgiM-vZXa",
        "outputId": "6fede58b-1888-47da-f456-d5a4a8f79206"
      },
      "execution_count": null,
      "outputs": [
        {
          "output_type": "stream",
          "name": "stdout",
          "text": [
            "2\n",
            "4\n",
            "6\n",
            "8\n",
            "10\n"
          ]
        }
      ]
    },
    {
      "cell_type": "code",
      "source": [
        "#######################################################################################\n",
        "#\n",
        "#   4. 1~9의 숫자로 구성된 리스트를 생성하고(문제 1, 문제 2 방법 중 어떤 방법도 좋음),\n",
        "#   생성한 리스트와 for 반복문을 이용하여 구구단을 만들고 화면에 출력하시오\n",
        "#\n",
        "#######################################################################################\n",
        "\n",
        "oneToNine = [num+1 for num in range(0,9,1)]\n",
        "\n",
        "for num1 in oneToNine:\n",
        "    for num2 in oneToNine:\n",
        "        print(num1*num2, end=' ')\n",
        "    print('')"
      ],
      "metadata": {
        "colab": {
          "base_uri": "https://localhost:8080/"
        },
        "id": "8zu3H8_DvYZ9",
        "outputId": "068e0ba3-6fb3-4fe6-a219-15ac0c07964b"
      },
      "execution_count": null,
      "outputs": [
        {
          "output_type": "stream",
          "name": "stdout",
          "text": [
            "1 2 3 4 5 6 7 8 9 \n",
            "2 4 6 8 10 12 14 16 18 \n",
            "3 6 9 12 15 18 21 24 27 \n",
            "4 8 12 16 20 24 28 32 36 \n",
            "5 10 15 20 25 30 35 40 45 \n",
            "6 12 18 24 30 36 42 48 54 \n",
            "7 14 21 28 35 42 49 56 63 \n",
            "8 16 24 32 40 48 56 64 72 \n",
            "9 18 27 36 45 54 63 72 81 \n"
          ]
        }
      ]
    },
    {
      "cell_type": "code",
      "source": [
        "#######################################################################################\n",
        "#\n",
        "#   5. 1~9의 숫자로 구성된 리스트를 생성하고(문제 1, 문제 2 방법 중 어떤 방법도 좋음),\n",
        "#   enumerate() 함수와 for 반복문을 이용하여 리스트의 인덱스와 값(원소)의 쌍을 화면에 출력하시오.\n",
        "#\n",
        "#######################################################################################\n",
        "\n",
        "nums = [i+1 for i in range(0,9,1)]\n",
        "\n",
        "for idx, item in enumerate(nums):\n",
        "    print(f'index:{idx}, value:{item}')"
      ],
      "metadata": {
        "colab": {
          "base_uri": "https://localhost:8080/"
        },
        "id": "IkKc0B6ZvWz3",
        "outputId": "e025b428-f273-443d-c4fe-c287e81ab91b"
      },
      "execution_count": null,
      "outputs": [
        {
          "output_type": "stream",
          "name": "stdout",
          "text": [
            "index:0, value:1\n",
            "index:1, value:2\n",
            "index:2, value:3\n",
            "index:3, value:4\n",
            "index:4, value:5\n",
            "index:5, value:6\n",
            "index:6, value:7\n",
            "index:7, value:8\n",
            "index:8, value:9\n"
          ]
        }
      ]
    },
    {
      "cell_type": "code",
      "source": [
        "#######################################################################################\n",
        "#\n",
        "#   6. enumerate() 함수와 for 반복문을 이용하여 위 문제 5에서 생성한 리스트에서 홀수 번째 위치의\n",
        "#   값(원소)들 만 화면에 출력하시오.\n",
        "#\n",
        "#######################################################################################\n",
        "\n",
        "for idx, item in enumerate(nums):\n",
        "    if idx%2 == 0:\n",
        "        continue\n",
        "    else:\n",
        "        print(item)\n"
      ],
      "metadata": {
        "colab": {
          "base_uri": "https://localhost:8080/"
        },
        "id": "WyCSXzAyvU22",
        "outputId": "73cb834e-244e-4f6f-e445-cb6bb8543f6c"
      },
      "execution_count": null,
      "outputs": [
        {
          "output_type": "stream",
          "name": "stdout",
          "text": [
            "2\n",
            "4\n",
            "6\n",
            "8\n"
          ]
        }
      ]
    },
    {
      "cell_type": "code",
      "source": [
        "#######################################################################################\n",
        "#\n",
        "#   7. 1~9의 숫자로 구성된 리스트를 생성하고(문제 1, 문제 2 방법 중 어떤 방법도 좋음),\n",
        "#   enumerate() 함수와 for 반복문을 이용하여 구구단의 홀수단 만 화면에 출력하는 코드를 작성하시오.\n",
        "#\n",
        "#######################################################################################\n",
        "\n",
        "for outer_idx, outer_item in enumerate(nums):\n",
        "  for inner_idx, inner_item in enumerate(nums):\n",
        "    if outer_item%2 == 0:\n",
        "      break\n",
        "    else:\n",
        "        print(outer_item * inner_item, end=' ')\n",
        "  print('')\n"
      ],
      "metadata": {
        "colab": {
          "base_uri": "https://localhost:8080/"
        },
        "id": "pZxOQY4XvTXC",
        "outputId": "20d848e6-a2ca-4c06-f4e6-1b68faaef663"
      },
      "execution_count": null,
      "outputs": [
        {
          "output_type": "stream",
          "name": "stdout",
          "text": [
            "1 2 3 4 5 6 7 8 9 \n",
            "\n",
            "3 6 9 12 15 18 21 24 27 \n",
            "\n",
            "5 10 15 20 25 30 35 40 45 \n",
            "\n",
            "7 14 21 28 35 42 49 56 63 \n",
            "\n",
            "9 18 27 36 45 54 63 72 81 \n"
          ]
        }
      ]
    },
    {
      "cell_type": "markdown",
      "source": [
        "# While loop exercise"
      ],
      "metadata": {
        "id": "-lJ6Rvp83ptr"
      }
    },
    {
      "cell_type": "code",
      "source": [
        "#######################################################################################\n",
        "#\n",
        "#   1. while 반복문을 이용해서 1~9까지의 자연수를 출력하는 파이썬 코드를 작성하시오.\n",
        "#\n",
        "#######################################################################################\n",
        "\n",
        "num = 1\n",
        "\n",
        "while num <= 9:\n",
        "  print(num, end=' ')\n",
        "\n",
        "  num = num + 1\n",
        "\n",
        "print('')"
      ],
      "metadata": {
        "colab": {
          "base_uri": "https://localhost:8080/"
        },
        "id": "3U1Hw1x-3gKl",
        "outputId": "4b637520-e1ff-4d99-ea1e-e0f0ae5994cc"
      },
      "execution_count": null,
      "outputs": [
        {
          "output_type": "stream",
          "name": "stdout",
          "text": [
            "1 2 3 4 5 6 7 8 9 \n"
          ]
        }
      ]
    },
    {
      "cell_type": "code",
      "source": [
        "#######################################################################################\n",
        "#\n",
        "#   2. 아래의 for 반복문을 while 반복문으로 옮기시오.\n",
        "#\n",
        "#######################################################################################\n",
        "\n",
        "#########################################\n",
        "nums = [1, 2, 3, 4, 5, 6, 7, 8, 9]\n",
        "\n",
        "# for num in nums:\n",
        "#     print(num, end=' ')\n",
        "# print('')\n",
        "#########################################\n",
        "\n",
        "idx = 0\n",
        "\n",
        "while idx<len(nums):\n",
        "  print(nums[idx], end=' ')\n",
        "  idx = idx + 1"
      ],
      "metadata": {
        "colab": {
          "base_uri": "https://localhost:8080/"
        },
        "id": "kmA4vCFP3nuj",
        "outputId": "b56e1e91-d462-4275-e3fe-eee2a1f89606"
      },
      "execution_count": null,
      "outputs": [
        {
          "output_type": "stream",
          "name": "stdout",
          "text": [
            "1 2 3 4 5 6 7 8 9 "
          ]
        }
      ]
    },
    {
      "cell_type": "code",
      "source": [
        "#######################################################################################\n",
        "#\n",
        "#   3. 아래 구구단을 출력하는 for 반복문을 while 반복문으로 옮기시오.\n",
        "#\n",
        "#######################################################################################\n",
        "\n",
        "#########################################\n",
        "nums = list(range(1, 10))\n",
        "\n",
        "# for num1 in nums:\n",
        "#     for num2 in nums:\n",
        "#         print(num1*num2, end=' ')\n",
        "#     print('')\n",
        "\n",
        "#########################################\n",
        "\n",
        "num1 = 1\n",
        "num2 = 1\n",
        "\n",
        "# 열을 생성한다\n",
        "while num1 <= 9:\n",
        "\n",
        "    # 단을 생성한다\n",
        "    while num2 <= 9:\n",
        "      # 단과 열을 곱합다\n",
        "      # 곱한 결과를 화면에 출력한다\n",
        "      print(num1 * num2, end=' ')\n",
        "      num2 = num2 + 1\n",
        "    print('')\n",
        "\n",
        "    num1 = num1 + 1\n",
        "    num2 = 1\n"
      ],
      "metadata": {
        "colab": {
          "base_uri": "https://localhost:8080/"
        },
        "id": "pXyxrQPI3me3",
        "outputId": "1e8fc21e-0156-4791-a2dc-48ee368bd8bd"
      },
      "execution_count": null,
      "outputs": [
        {
          "output_type": "stream",
          "name": "stdout",
          "text": [
            "1 2 3 4 5 6 7 8 9 \n",
            "2 4 6 8 10 12 14 16 18 \n",
            "3 6 9 12 15 18 21 24 27 \n",
            "4 8 12 16 20 24 28 32 36 \n",
            "5 10 15 20 25 30 35 40 45 \n",
            "6 12 18 24 30 36 42 48 54 \n",
            "7 14 21 28 35 42 49 56 63 \n",
            "8 16 24 32 40 48 56 64 72 \n",
            "9 18 27 36 45 54 63 72 81 \n"
          ]
        }
      ]
    },
    {
      "cell_type": "code",
      "source": [
        "dan = 1\n",
        "while dan <= 5:\n",
        "  print(dan)\n",
        "  dan = dan + 1\n"
      ],
      "metadata": {
        "colab": {
          "base_uri": "https://localhost:8080/"
        },
        "id": "VufnnPfl_LNZ",
        "outputId": "51b3079e-c83a-4189-bd62-1bd0e48f6b37"
      },
      "execution_count": null,
      "outputs": [
        {
          "output_type": "stream",
          "name": "stdout",
          "text": [
            "1\n",
            "2\n",
            "3\n",
            "4\n",
            "5\n"
          ]
        }
      ]
    },
    {
      "cell_type": "code",
      "source": [
        "dan = 1\n",
        "while dan <= 5:\n",
        "  while yul <= 5:\n",
        "    result = dan * yul\n",
        "    print(result, end=' ')\n",
        "\n",
        "    yul = yul + 1\n",
        "  print('')\n",
        "  yul = 1\n",
        "  dan = dan + 1"
      ],
      "metadata": {
        "colab": {
          "base_uri": "https://localhost:8080/"
        },
        "id": "UrhKGZy0_Zmb",
        "outputId": "84c94d78-7fbc-42db-aec1-58430eaa665d"
      },
      "execution_count": null,
      "outputs": [
        {
          "output_type": "stream",
          "name": "stdout",
          "text": [
            "1 2 3 4 5 \n",
            "2 4 6 8 10 \n",
            "3 6 9 12 15 \n",
            "4 8 12 16 20 \n",
            "5 10 15 20 25 \n"
          ]
        }
      ]
    },
    {
      "cell_type": "code",
      "source": [
        "dan = 1\n",
        "yul = 1\n",
        "\n",
        "while dan <= 5:\n",
        "  while yul <= 5:\n",
        "    result = dan * yul\n",
        "    print(result, end=' ')\n",
        "    yul = yul + 1\n",
        "  print('')\n",
        "\n",
        "  yul = 1\n",
        "  dan = dan + 1\n"
      ],
      "metadata": {
        "colab": {
          "base_uri": "https://localhost:8080/"
        },
        "id": "uJFNV80h95QK",
        "outputId": "eb0bd480-615d-40a2-f7f7-ad697b9c0950"
      },
      "execution_count": null,
      "outputs": [
        {
          "output_type": "stream",
          "name": "stdout",
          "text": [
            "1 2 3 4 5 \n",
            "2 4 6 8 10 \n",
            "3 6 9 12 15 \n",
            "4 8 12 16 20 \n",
            "5 10 15 20 25 \n"
          ]
        }
      ]
    },
    {
      "cell_type": "code",
      "source": [
        "#######################################################################################\n",
        "#\n",
        "#   4. while 반복문을 이용하여 아래 기능을 수행하는 파이썬 반복문을 작성하시오.\n",
        "#   · 파이썬의 input()을 이용하여 사용자로부터 키보드 입력을 받는다.\n",
        "#   · 입력받은 값이 0보다 큰(>) 경우 입력값을 화면에 출력하고 다시 키보드 입력을 대기한다.\n",
        "#   · 입력받은 값이 0 이하(<=)인 경우 반복을 중지하고 프로그램을 끝낸다.\n",
        "#\n",
        "#######################################################################################\n",
        "\n",
        "while True:\n",
        "    inputNum = int(input('숫자를 입력하세요: '))    #   사용자로부터 키보드 입력을 받습니다.\n",
        "\n",
        "    if inputNum > 0:\n",
        "      print(inputNum)\n",
        "    else:\n",
        "      break"
      ],
      "metadata": {
        "colab": {
          "base_uri": "https://localhost:8080/"
        },
        "id": "AgB9MHbh3lAk",
        "outputId": "fb060683-f5aa-4895-bbb9-54a1157ce7a6"
      },
      "execution_count": null,
      "outputs": [
        {
          "name": "stdout",
          "output_type": "stream",
          "text": [
            "숫자를 입력하세요: 2\n",
            "2\n",
            "숫자를 입력하세요: -1\n"
          ]
        }
      ]
    },
    {
      "cell_type": "code",
      "source": [
        "#######################################################################################\n",
        "#\n",
        "#   추가 스크립트. 아래 pops 리스트는 성인 20명의 키를 모아놓은 것이다.\n",
        "#   그리고 이어지는 for 반복문은 이 성인 키 리스트에서 매 다섯 번째(인덱스 0, 5, 10, ...) 원소들만 샘플링하여 합을 구하고 있다.\n",
        "#   이 for 반복문과 같은 결과를 출력하는 반복문을 while 반복문으로 작성하시오.\n",
        "#\n",
        "#######################################################################################\n",
        "\n",
        "pops = [156.7, 174.5, 179.45, 162.73, 155.67, 174.13, 150.8, 177.45, 142.89, 184.51, 150.84, \\\n",
        "    183.47, 165.77, 171.0, 181.78, 153.27, 162.52, 146.87, 156.37, 143.03]\n",
        "\n",
        "#########################################\n",
        "\n",
        "sum = 0 # 합의 초기값은 0에서 부터 시작하여 누적\n",
        "\n",
        "for idx, val in enumerate(pops):\n",
        "    if idx%5 == 0:\n",
        "        sum = sum + val\n",
        "    else:\n",
        "        continue\n",
        "\n",
        "print('sum by for:', sum)"
      ],
      "metadata": {
        "colab": {
          "base_uri": "https://localhost:8080/"
        },
        "id": "M8VzJIip3jrI",
        "outputId": "ab25cb69-af9b-4350-ea3f-1823022fb6ff"
      },
      "execution_count": null,
      "outputs": [
        {
          "output_type": "stream",
          "name": "stdout",
          "text": [
            "sum by for: 634.9399999999999\n"
          ]
        }
      ]
    },
    {
      "cell_type": "code",
      "source": [
        "#########################################\n",
        "\n",
        "# 힌트: 인덱스를 수동으로 증가시키고 pops 리스트에서 인덱싱 방법을 이용해서 값을 가져오면 인덱스, 값을 모두 사용할 수 있다.\n",
        "\n",
        "idx = 0\n",
        "sum = 0\n",
        "\n",
        "while idx < 20:\n",
        "  if idx % 5 == 0:\n",
        "    sum = sum + pops[idx]\n",
        "\n",
        "  idx = idx+1\n",
        "\n",
        "print('sum by while:', sum)"
      ],
      "metadata": {
        "colab": {
          "base_uri": "https://localhost:8080/"
        },
        "id": "8XSHQ1rE6fP2",
        "outputId": "a53a53ee-47cf-4b37-d9fd-c517033e380a"
      },
      "execution_count": null,
      "outputs": [
        {
          "output_type": "stream",
          "name": "stdout",
          "text": [
            "sum by while: 634.9399999999999\n"
          ]
        }
      ]
    },
    {
      "cell_type": "code",
      "source": [
        "def cal(inputlist):\n",
        "  sum = 0\n",
        "\n",
        "  for item in inputlist:\n",
        "    sum = sum + item\n",
        "\n",
        "  return sum\n",
        "\n",
        "\n",
        "example = [1, 2, 3, 4, 5, 6, 7, 8, 9, 10]\n",
        "\n",
        "cal(example)"
      ],
      "metadata": {
        "colab": {
          "base_uri": "https://localhost:8080/"
        },
        "id": "FKXeTDl48ELe",
        "outputId": "7b0d3899-adff-4cff-b014-e19b334e81e7"
      },
      "execution_count": null,
      "outputs": [
        {
          "output_type": "execute_result",
          "data": {
            "text/plain": [
              "55"
            ]
          },
          "metadata": {},
          "execution_count": 1
        }
      ]
    },
    {
      "cell_type": "code",
      "source": [
        "def 함수이름(변수): 이름 / 입력값(인자 arguement)\n",
        "  연산 바디\n",
        "\n",
        "  return 결과 값 반환 값\n",
        "\n",
        "# 함수이름(대입할 변수) => print하면 연산해서 결과값으로 도출됨"
      ],
      "metadata": {
        "id": "xt152qaXypKj"
      },
      "execution_count": null,
      "outputs": []
    },
    {
      "cell_type": "code",
      "source": [
        "True or False"
      ],
      "metadata": {
        "colab": {
          "base_uri": "https://localhost:8080/"
        },
        "id": "sWViA5vszxZM",
        "outputId": "d30a0d30-3c93-497c-f205-69ccc290973d"
      },
      "execution_count": null,
      "outputs": [
        {
          "output_type": "execute_result",
          "data": {
            "text/plain": [
              "True"
            ]
          },
          "metadata": {},
          "execution_count": 1
        }
      ]
    },
    {
      "cell_type": "code",
      "source": [
        "True and False"
      ],
      "metadata": {
        "colab": {
          "base_uri": "https://localhost:8080/"
        },
        "id": "CSwMqlQSz0JP",
        "outputId": "b7d58272-fc11-4ee8-d41d-654a81f0cbcb"
      },
      "execution_count": null,
      "outputs": [
        {
          "output_type": "execute_result",
          "data": {
            "text/plain": [
              "False"
            ]
          },
          "metadata": {},
          "execution_count": 2
        }
      ]
    },
    {
      "cell_type": "code",
      "source": [],
      "metadata": {
        "id": "3VIk-SWfz9zg"
      },
      "execution_count": null,
      "outputs": []
    }
  ]
}