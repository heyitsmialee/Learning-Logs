{
  "nbformat": 4,
  "nbformat_minor": 0,
  "metadata": {
    "colab": {
      "provenance": [],
      "authorship_tag": "ABX9TyNHzDwg5+2lI24cbGja2csd"
    },
    "kernelspec": {
      "name": "python3",
      "display_name": "Python 3"
    },
    "language_info": {
      "name": "python"
    }
  },
  "cells": [
    {
      "cell_type": "markdown",
      "source": [
        "## Programmers 코딩테스트 입문 Lv.0"
      ],
      "metadata": {
        "id": "69MC03r8kjCA"
      }
    },
    {
      "cell_type": "markdown",
      "source": [
        "### 1. 사칙연산"
      ],
      "metadata": {
        "id": "fFIfh3_Kknbt"
      }
    },
    {
      "cell_type": "code",
      "execution_count": 1,
      "metadata": {
        "id": "Hlh9nbspj7YZ"
      },
      "outputs": [],
      "source": [
        "# 정수 num1과 num2가 주어질 때, num1과 num2의 합을 return하도록 soltuion 함수를 완성해주세요.\n",
        "def solution(num1, num2):\n",
        "    answer = num1+num2\n",
        "    return answer"
      ]
    },
    {
      "cell_type": "code",
      "source": [
        "# 정수 num1과 num2가 주어질 때, num1과 num2의 차를 return하도록 soltuion 함수를 완성해주세요.\n",
        "def solution(num1, num2):\n",
        "    answer = num1 - num2\n",
        "    return answer"
      ],
      "metadata": {
        "id": "gIBwqB72kMtB"
      },
      "execution_count": 3,
      "outputs": []
    },
    {
      "cell_type": "code",
      "source": [
        "# 정수 num1, num2가 매개변수 주어집니다. num1과 num2를 곱한 값을 return 하도록 solution 함수를 완성해주세요.\n",
        "def solution(num1, num2):\n",
        "    answer = num1 * num2\n",
        "    return answer"
      ],
      "metadata": {
        "id": "Cuuc_4rzkUJv"
      },
      "execution_count": 4,
      "outputs": []
    },
    {
      "cell_type": "code",
      "source": [
        "# 정수 num1, num2가 매개변수로 주어질 때, num1을 num2로 나눈 몫을 return 하도록 solution 함수를 완성해주세요.\n",
        "def solution(num1, num2):\n",
        "    answer = num1 // num2\n",
        "    return answer"
      ],
      "metadata": {
        "id": "MPXRoMi1kdRK"
      },
      "execution_count": 5,
      "outputs": []
    },
    {
      "cell_type": "code",
      "source": [
        "# 정수 num1과 num2가 매개변수로 주어질 때, num1을 num2로 나눈 값에 1,000을 곱한 후 정수 부분을 return 하도록 solution 함수를 완성해주세요.\n",
        "def solution(num1, num2):\n",
        "    answer = int(num1 / num2 * 1000)\n",
        "    return answer"
      ],
      "metadata": {
        "id": "7Rus-Nvzkp9p"
      },
      "execution_count": 6,
      "outputs": []
    },
    {
      "cell_type": "code",
      "source": [
        "# 정수 num1과 num2가 매개변수로 주어집니다. 두 수가 같으면 1 다르면 -1을 retrun하도록 solution 함수를 완성해주세요.\n",
        "def solution(num1, num2):\n",
        "    if num1 == num2:\n",
        "        answer = 1\n",
        "    else :\n",
        "        answer = -1\n",
        "    return answer"
      ],
      "metadata": {
        "id": "EOCgcJngk8pk"
      },
      "execution_count": 7,
      "outputs": []
    },
    {
      "cell_type": "code",
      "source": [
        "# 첫 번째 분수의 분자와 분모를 뜻하는 numer1, denom1, 두 번째 분수의 분자와 분모를 뜻하는 numer2, denom2가 매개변수로 주어집니다.\n",
        "# 두 분수를 더한 값을 기약 분수로 나타냈을 때 분자와 분모를 순서대로 담은 배열을 return 하도록 solution 함수를 완성해보세요.\n",
        "from fractions import Fraction\n",
        "\n",
        "def solution(numer1, denom1, numer2, denom2):\n",
        "    num = Fraction(numer1, denom1) + Fraction(numer2, denom2)\n",
        "    return [num.numerator, num.denominator]"
      ],
      "metadata": {
        "id": "fOB9MmvznaT3"
      },
      "execution_count": 8,
      "outputs": []
    },
    {
      "cell_type": "code",
      "source": [
        "# 정수 배열 numbers가 매개변수로 주어집니다.\n",
        "# numbers의 각 원소에 두배한 원소를 가진 배열을 return하도록 solution 함수를 완성해주세요.\n",
        "def solution(numbers):\n",
        "    answer = []\n",
        "    for i in numbers:\n",
        "        answer.append(i*2)\n",
        "    return answer"
      ],
      "metadata": {
        "id": "mNOGPrPAnoKy"
      },
      "execution_count": 9,
      "outputs": []
    }
  ]
}