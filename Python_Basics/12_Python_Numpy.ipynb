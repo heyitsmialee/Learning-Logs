{
  "nbformat": 4,
  "nbformat_minor": 0,
  "metadata": {
    "colab": {
      "provenance": [],
      "authorship_tag": "ABX9TyNLVsUcfsdmbDJ+sn/IgJmd"
    },
    "kernelspec": {
      "name": "python3",
      "display_name": "Python 3"
    },
    "language_info": {
      "name": "python"
    }
  },
  "cells": [
    {
      "cell_type": "markdown",
      "source": [
        "### [NumPy]\n",
        "\n",
        "다양한 계산 도구를 제공하는 파이썬 라이브러리\n",
        "- 다량의데이터저장을위한컨테이너(ndarray-NDimensionalArray,N차원배열)제공\n",
        "\n",
        "- C언어로작성되어속도가빠르고메모리를적게사용한다.\n",
        "\n",
        "- 행렬계산,난수(randomnumber)생성 푸리에 변환 등"
      ],
      "metadata": {
        "id": "qYSSpWJFQ2dR"
      }
    },
    {
      "cell_type": "code",
      "source": [
        "pip install numpy"
      ],
      "metadata": {
        "colab": {
          "base_uri": "https://localhost:8080/"
        },
        "id": "gtxqaVJBFSBj",
        "outputId": "e7690111-1e0b-43ec-f755-0126ee76e34c"
      },
      "execution_count": null,
      "outputs": [
        {
          "output_type": "stream",
          "name": "stdout",
          "text": [
            "Requirement already satisfied: numpy in /usr/local/lib/python3.10/dist-packages (2.1.3)\n"
          ]
        }
      ]
    },
    {
      "cell_type": "code",
      "execution_count": null,
      "metadata": {
        "id": "y-ICAv8MQLbD"
      },
      "outputs": [],
      "source": [
        "import numpy as np"
      ]
    },
    {
      "cell_type": "markdown",
      "source": [
        "### 1. 생성 Create"
      ],
      "metadata": {
        "id": "NtKuyd6bGrD1"
      }
    },
    {
      "cell_type": "code",
      "source": [
        "# numpy array\n",
        "\n",
        "n = np.array([0, 1, 2, 3, 4, 5])\n",
        "print(n)"
      ],
      "metadata": {
        "colab": {
          "base_uri": "https://localhost:8080/"
        },
        "id": "oZojbsojGXdX",
        "outputId": "09db0c25-d451-4c54-deea-8c95c63674f8"
      },
      "execution_count": null,
      "outputs": [
        {
          "output_type": "stream",
          "name": "stdout",
          "text": [
            "[0 1 2 3 4 5]\n"
          ]
        }
      ]
    },
    {
      "cell_type": "code",
      "source": [
        "# array reshape\n",
        "\n",
        "n = n.reshape([2,3])\n",
        "print(n)"
      ],
      "metadata": {
        "colab": {
          "base_uri": "https://localhost:8080/"
        },
        "id": "KGtoizT8Gh1K",
        "outputId": "f292256a-0720-4d72-d0e8-7ba40843f6a9"
      },
      "execution_count": null,
      "outputs": [
        {
          "output_type": "stream",
          "name": "stdout",
          "text": [
            "[[0 1 2]\n",
            " [3 4 5]]\n"
          ]
        }
      ]
    },
    {
      "cell_type": "code",
      "source": [
        "a1 = [1, 3, 5]\n",
        "a2 = [2, 4, 6]\n",
        "\n",
        "a3 = [a1, a2]\n",
        "\n",
        "print(a3)"
      ],
      "metadata": {
        "colab": {
          "base_uri": "https://localhost:8080/"
        },
        "id": "5Nu6I9uDRCOO",
        "outputId": "07d5fbee-9ceb-43b2-8e85-87ed532a35e0"
      },
      "execution_count": null,
      "outputs": [
        {
          "output_type": "stream",
          "name": "stdout",
          "text": [
            "[[1, 3, 5], [2, 4, 6]]\n"
          ]
        }
      ]
    },
    {
      "cell_type": "code",
      "source": [
        "b1 = np.array(a3)\n",
        "\n",
        "print(b1)"
      ],
      "metadata": {
        "colab": {
          "base_uri": "https://localhost:8080/"
        },
        "id": "fMoo7TBIRbFF",
        "outputId": "f3203b9f-a23c-45a8-8b02-a128f1dd01b1"
      },
      "execution_count": null,
      "outputs": [
        {
          "output_type": "stream",
          "name": "stdout",
          "text": [
            "[[1 3 5]\n",
            " [2 4 6]]\n"
          ]
        }
      ]
    },
    {
      "cell_type": "code",
      "source": [
        "a4 = np.array(range(0, 12, 1))\n",
        "print(a4)"
      ],
      "metadata": {
        "colab": {
          "base_uri": "https://localhost:8080/"
        },
        "id": "3j8Sl6DpHDIr",
        "outputId": "49f7f592-2048-43db-fcbc-7f0c4b452e7b"
      },
      "execution_count": null,
      "outputs": [
        {
          "output_type": "stream",
          "name": "stdout",
          "text": [
            "[ 0  1  2  3  4  5  6  7  8  9 10 11]\n"
          ]
        }
      ]
    },
    {
      "cell_type": "code",
      "source": [
        "a5 = np.arange(0, 12, 1)\n",
        "print(a5)"
      ],
      "metadata": {
        "colab": {
          "base_uri": "https://localhost:8080/"
        },
        "id": "UG69AdyZHOtn",
        "outputId": "7834f56c-4cce-4619-dc06-7dacf6549b9e"
      },
      "execution_count": null,
      "outputs": [
        {
          "output_type": "stream",
          "name": "stdout",
          "text": [
            "[ 0  1  2  3  4  5  6  7  8  9 10 11]\n"
          ]
        }
      ]
    },
    {
      "cell_type": "code",
      "source": [
        "a6 = a5.reshape([3, 4])\n",
        "print(a6)"
      ],
      "metadata": {
        "colab": {
          "base_uri": "https://localhost:8080/"
        },
        "id": "4McDT5SxHspP",
        "outputId": "21237b68-9357-4d49-bfa7-5fb47b6b32a4"
      },
      "execution_count": null,
      "outputs": [
        {
          "output_type": "stream",
          "name": "stdout",
          "text": [
            "[[ 0  1  2  3]\n",
            " [ 4  5  6  7]\n",
            " [ 8  9 10 11]]\n"
          ]
        }
      ]
    },
    {
      "cell_type": "code",
      "source": [
        "a7 = a6.reshape([2,6])\n",
        "print(a7)"
      ],
      "metadata": {
        "colab": {
          "base_uri": "https://localhost:8080/"
        },
        "id": "qtfxIWzJH0YS",
        "outputId": "581d3e46-3732-40f4-8392-af3cb7db18a9"
      },
      "execution_count": null,
      "outputs": [
        {
          "output_type": "stream",
          "name": "stdout",
          "text": [
            "[[ 0  1  2  3  4  5]\n",
            " [ 6  7  8  9 10 11]]\n"
          ]
        }
      ]
    },
    {
      "cell_type": "markdown",
      "source": [
        "### 2. 읽기 - Read"
      ],
      "metadata": {
        "id": "TeLMbo5kH8QN"
      }
    },
    {
      "cell_type": "markdown",
      "source": [
        "- Indexing"
      ],
      "metadata": {
        "id": "S9OFjlYBINTF"
      }
    },
    {
      "cell_type": "code",
      "source": [
        "print(b1)"
      ],
      "metadata": {
        "colab": {
          "base_uri": "https://localhost:8080/"
        },
        "id": "U0hnlaTzIFqE",
        "outputId": "a0e1c083-0f35-48b0-9fd7-f158e8ce8c19"
      },
      "execution_count": null,
      "outputs": [
        {
          "output_type": "stream",
          "name": "stdout",
          "text": [
            "[[1 3 5]\n",
            " [2 4 6]]\n"
          ]
        }
      ]
    },
    {
      "cell_type": "code",
      "source": [
        "b1[0, 0]"
      ],
      "metadata": {
        "colab": {
          "base_uri": "https://localhost:8080/"
        },
        "id": "BIgobIVQH6Rq",
        "outputId": "0e2b0fb5-584b-4043-c13e-18d87cdcd446"
      },
      "execution_count": null,
      "outputs": [
        {
          "output_type": "execute_result",
          "data": {
            "text/plain": [
              "1"
            ]
          },
          "metadata": {},
          "execution_count": 141
        }
      ]
    },
    {
      "cell_type": "code",
      "source": [
        "b1[1, 2]"
      ],
      "metadata": {
        "colab": {
          "base_uri": "https://localhost:8080/"
        },
        "id": "Xq0KircsIFFU",
        "outputId": "1c3de997-93ea-44ed-cc6c-b195f8b3f593"
      },
      "execution_count": null,
      "outputs": [
        {
          "output_type": "execute_result",
          "data": {
            "text/plain": [
              "6"
            ]
          },
          "metadata": {},
          "execution_count": 142
        }
      ]
    },
    {
      "cell_type": "markdown",
      "source": [
        "- Slicing"
      ],
      "metadata": {
        "id": "IeenU3FiIQcq"
      }
    },
    {
      "cell_type": "code",
      "source": [
        "b1[0:2, 0]"
      ],
      "metadata": {
        "colab": {
          "base_uri": "https://localhost:8080/"
        },
        "id": "6cgOTpg3IL4t",
        "outputId": "e5923333-9ed9-4075-96bf-53e6c072d895"
      },
      "execution_count": null,
      "outputs": [
        {
          "output_type": "execute_result",
          "data": {
            "text/plain": [
              "array([1, 2])"
            ]
          },
          "metadata": {},
          "execution_count": 143
        }
      ]
    },
    {
      "cell_type": "code",
      "source": [
        "b1[0, 0:2]"
      ],
      "metadata": {
        "colab": {
          "base_uri": "https://localhost:8080/"
        },
        "id": "sXl1Y-MpIVKw",
        "outputId": "dddfac88-9097-4721-8053-723714f8d857"
      },
      "execution_count": null,
      "outputs": [
        {
          "output_type": "execute_result",
          "data": {
            "text/plain": [
              "array([1, 3])"
            ]
          },
          "metadata": {},
          "execution_count": 144
        }
      ]
    },
    {
      "cell_type": "code",
      "source": [
        "b1[0:2, 0:2]"
      ],
      "metadata": {
        "colab": {
          "base_uri": "https://localhost:8080/"
        },
        "id": "M6SAaChpIXe9",
        "outputId": "a6ac0bb8-8221-43b6-91bd-43de96065e5e"
      },
      "execution_count": null,
      "outputs": [
        {
          "output_type": "execute_result",
          "data": {
            "text/plain": [
              "array([[1, 3],\n",
              "       [2, 4]])"
            ]
          },
          "metadata": {},
          "execution_count": 145
        }
      ]
    },
    {
      "cell_type": "code",
      "source": [
        "b1[0, 0:]"
      ],
      "metadata": {
        "colab": {
          "base_uri": "https://localhost:8080/"
        },
        "id": "Oada3_CAIZwg",
        "outputId": "1e196c8a-8551-46a7-a6ea-dc1e8a12f52b"
      },
      "execution_count": null,
      "outputs": [
        {
          "output_type": "execute_result",
          "data": {
            "text/plain": [
              "array([1, 3, 5])"
            ]
          },
          "metadata": {},
          "execution_count": 146
        }
      ]
    },
    {
      "cell_type": "code",
      "source": [
        "# 불리언 인덱싱\n",
        "\n",
        "b1[b1>4]"
      ],
      "metadata": {
        "colab": {
          "base_uri": "https://localhost:8080/"
        },
        "id": "koX5QntfIguV",
        "outputId": "d51e3c32-d341-47cc-d6ad-7cd89278fcbb"
      },
      "execution_count": null,
      "outputs": [
        {
          "output_type": "execute_result",
          "data": {
            "text/plain": [
              "array([5, 6])"
            ]
          },
          "metadata": {},
          "execution_count": 147
        }
      ]
    },
    {
      "cell_type": "code",
      "source": [
        "# 불리언 인덱싱\n",
        "b1[b1<=3]"
      ],
      "metadata": {
        "colab": {
          "base_uri": "https://localhost:8080/"
        },
        "id": "4YQd3XHrIiKQ",
        "outputId": "c3bde14b-cef9-4ab2-9e4c-bcab630f8d92"
      },
      "execution_count": null,
      "outputs": [
        {
          "output_type": "execute_result",
          "data": {
            "text/plain": [
              "array([1, 3, 2])"
            ]
          },
          "metadata": {},
          "execution_count": 148
        }
      ]
    },
    {
      "cell_type": "code",
      "source": [
        "# 깊은 복사\n",
        "\n",
        "b2 = b1.copy()\n",
        "print(b2)"
      ],
      "metadata": {
        "colab": {
          "base_uri": "https://localhost:8080/"
        },
        "id": "OGQ6JYIpLntI",
        "outputId": "98dad852-6b5d-4fc0-d7f5-f2cb2d6dc7ad"
      },
      "execution_count": null,
      "outputs": [
        {
          "output_type": "stream",
          "name": "stdout",
          "text": [
            "[[1 3 5]\n",
            " [2 4 6]]\n"
          ]
        }
      ]
    },
    {
      "cell_type": "markdown",
      "source": [
        "### Update"
      ],
      "metadata": {
        "id": "4sSCaVZtL6L9"
      }
    },
    {
      "cell_type": "code",
      "source": [
        "n2 = np.array([6,7])\n",
        "print(n2)\n",
        "\n",
        "print(n)\n",
        "print(n.shape)"
      ],
      "metadata": {
        "colab": {
          "base_uri": "https://localhost:8080/"
        },
        "id": "qTe5--KGMY4B",
        "outputId": "39042737-5323-4b30-ff69-da6f33d679c4"
      },
      "execution_count": null,
      "outputs": [
        {
          "output_type": "stream",
          "name": "stdout",
          "text": [
            "[6 7]\n",
            "[[0 1 2]\n",
            " [3 4 5]]\n",
            "(2, 3)\n"
          ]
        }
      ]
    },
    {
      "cell_type": "code",
      "source": [
        "n2 = n2.reshape([2,1])\n",
        "print(n2)\n",
        "print(n2.shape)"
      ],
      "metadata": {
        "colab": {
          "base_uri": "https://localhost:8080/"
        },
        "id": "1-ixFnXHL857",
        "outputId": "3103e8f9-74fd-412c-abfa-26a71754302f"
      },
      "execution_count": null,
      "outputs": [
        {
          "output_type": "stream",
          "name": "stdout",
          "text": [
            "[[6]\n",
            " [7]]\n",
            "(2, 1)\n"
          ]
        }
      ]
    },
    {
      "cell_type": "code",
      "source": [
        "# 값 추가하기 : 확장은 불가능하고 새로 값을 만들어서 추가해야하만 함\n",
        "n3 = np.concatenate((n, n2), axis=1) #axis = 1 열 기준으로 붙여라\n",
        "print(n3)"
      ],
      "metadata": {
        "colab": {
          "base_uri": "https://localhost:8080/"
        },
        "id": "alLvyhnGMSjH",
        "outputId": "13d0732e-6188-450b-baf1-ba0d4c1035a6"
      },
      "execution_count": null,
      "outputs": [
        {
          "output_type": "stream",
          "name": "stdout",
          "text": [
            "[[0 1 2 6]\n",
            " [3 4 5 7]]\n"
          ]
        }
      ]
    },
    {
      "cell_type": "code",
      "source": [
        "print(n3.shape)"
      ],
      "metadata": {
        "colab": {
          "base_uri": "https://localhost:8080/"
        },
        "id": "8wgbcTzOMm9m",
        "outputId": "68646c53-9c03-419e-d6d2-16d3b03acd34"
      },
      "execution_count": null,
      "outputs": [
        {
          "output_type": "stream",
          "name": "stdout",
          "text": [
            "(2, 4)\n"
          ]
        }
      ]
    },
    {
      "cell_type": "code",
      "source": [
        "# 값 교체\n",
        "\n",
        "n3[1, 2] = 9\n",
        "print(n3)"
      ],
      "metadata": {
        "colab": {
          "base_uri": "https://localhost:8080/"
        },
        "id": "2qjYsJb_M0o3",
        "outputId": "6e8c7a21-303e-497c-fbf8-4f930dec4dd0"
      },
      "execution_count": null,
      "outputs": [
        {
          "output_type": "stream",
          "name": "stdout",
          "text": [
            "[[0 1 2 6]\n",
            " [3 4 9 7]]\n"
          ]
        }
      ]
    },
    {
      "cell_type": "markdown",
      "source": [
        "### Delete"
      ],
      "metadata": {
        "id": "6fNX0Qn6NEUh"
      }
    },
    {
      "cell_type": "code",
      "source": [
        "n4 = np.delete(n3, [2,3], 1)\n",
        "print(n4)"
      ],
      "metadata": {
        "colab": {
          "base_uri": "https://localhost:8080/"
        },
        "id": "BcSE8Z_VNH-Y",
        "outputId": "891166d0-207a-4a1e-87f7-1c773c18e65d"
      },
      "execution_count": null,
      "outputs": [
        {
          "output_type": "stream",
          "name": "stdout",
          "text": [
            "[[0 1]\n",
            " [3 4]]\n"
          ]
        }
      ]
    },
    {
      "cell_type": "markdown",
      "source": [
        "### 3. 계산 Calculation"
      ],
      "metadata": {
        "id": "pVQ3t2MZLuOl"
      }
    },
    {
      "cell_type": "code",
      "source": [
        "# 행렬 곱\n",
        "\n",
        "b3 = b1 * b2\n",
        "print(b3)"
      ],
      "metadata": {
        "colab": {
          "base_uri": "https://localhost:8080/"
        },
        "id": "47N4kwOaLxgu",
        "outputId": "76553d6f-484f-4d61-992f-0a1465fdcda3"
      },
      "execution_count": null,
      "outputs": [
        {
          "output_type": "stream",
          "name": "stdout",
          "text": [
            "[[ 1  9 25]\n",
            " [ 4 16 36]]\n"
          ]
        }
      ]
    },
    {
      "cell_type": "code",
      "source": [
        "pip install pandas"
      ],
      "metadata": {
        "colab": {
          "base_uri": "https://localhost:8080/"
        },
        "id": "bV_IH1HtVh4Y",
        "outputId": "16a821a1-1c17-4108-b463-5bb713275fde"
      },
      "execution_count": null,
      "outputs": [
        {
          "output_type": "stream",
          "name": "stdout",
          "text": [
            "Requirement already satisfied: pandas in /usr/local/lib/python3.10/dist-packages (2.2.2)\n",
            "Requirement already satisfied: numpy>=1.22.4 in /usr/local/lib/python3.10/dist-packages (from pandas) (2.1.3)\n",
            "Requirement already satisfied: python-dateutil>=2.8.2 in /usr/local/lib/python3.10/dist-packages (from pandas) (2.8.2)\n",
            "Requirement already satisfied: pytz>=2020.1 in /usr/local/lib/python3.10/dist-packages (from pandas) (2024.2)\n",
            "Requirement already satisfied: tzdata>=2022.7 in /usr/local/lib/python3.10/dist-packages (from pandas) (2024.2)\n",
            "Requirement already satisfied: six>=1.5 in /usr/local/lib/python3.10/dist-packages (from python-dateutil>=2.8.2->pandas) (1.16.0)\n"
          ]
        }
      ]
    },
    {
      "cell_type": "code",
      "source": [
        "import numpy as np\n",
        "a = [1, 2, 3]\n",
        "a2 = [4, 5, 6]\n",
        "a3 = [7, 8, 9]\n",
        "n = np.array([a, a2, a3])\n",
        "print(n.shape)"
      ],
      "metadata": {
        "id": "sopVRAduV5SB",
        "colab": {
          "base_uri": "https://localhost:8080/"
        },
        "outputId": "82de86d8-e8ef-4315-f925-ad57d36c92ea"
      },
      "execution_count": null,
      "outputs": [
        {
          "output_type": "stream",
          "name": "stdout",
          "text": [
            "(3, 3)\n"
          ]
        }
      ]
    },
    {
      "cell_type": "code",
      "source": [
        "a = [1, 2, 3]\n",
        "\n",
        "a2 = [4, 5, 6]\n",
        "\n",
        "a3 = [7, 8, 9]\n",
        "\n",
        "\n",
        "\n",
        "n = np.array([a, a2, a3])\n",
        "\n",
        "nums = n[n >= 5]\n",
        "\n",
        "\n",
        "\n",
        "print(nums)"
      ],
      "metadata": {
        "id": "Qtx51lfkZMSD",
        "outputId": "6372013a-4010-40a2-8966-4613ee439bcb",
        "colab": {
          "base_uri": "https://localhost:8080/"
        }
      },
      "execution_count": null,
      "outputs": [
        {
          "output_type": "stream",
          "name": "stdout",
          "text": [
            "[5 6 7 8 9]\n"
          ]
        }
      ]
    }
  ]
}