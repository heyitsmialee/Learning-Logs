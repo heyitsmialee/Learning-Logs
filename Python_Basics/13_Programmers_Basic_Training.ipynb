{
  "nbformat": 4,
  "nbformat_minor": 0,
  "metadata": {
    "colab": {
      "provenance": [],
      "authorship_tag": "ABX9TyNKhpZLr+mvRKUZJS+pimHi"
    },
    "kernelspec": {
      "name": "python3",
      "display_name": "Python 3"
    },
    "language_info": {
      "name": "python"
    }
  },
  "cells": [
    {
      "cell_type": "markdown",
      "source": [
        "## Programmers 코딩 기초 트레이닝 Lv.0"
      ],
      "metadata": {
        "id": "6S1qKzwdgJQ2"
      }
    },
    {
      "cell_type": "markdown",
      "source": [
        "### 1. 출력"
      ],
      "metadata": {
        "id": "SXFxGDgfhMzL"
      }
    },
    {
      "cell_type": "code",
      "source": [
        "# 문자열 str이 주어질 때, str을 출력하는 코드를 작성해 보세요.\n",
        "str = input()\n",
        "print(str)"
      ],
      "metadata": {
        "colab": {
          "base_uri": "https://localhost:8080/"
        },
        "id": "yvM2xR3ygH1c",
        "outputId": "66c01b45-621f-4067-daeb-fc2eb997a771"
      },
      "execution_count": 1,
      "outputs": [
        {
          "output_type": "stream",
          "name": "stdout",
          "text": [
            "Hello World!\n",
            "Hello World!\n"
          ]
        }
      ]
    },
    {
      "cell_type": "code",
      "execution_count": 3,
      "metadata": {
        "colab": {
          "base_uri": "https://localhost:8080/"
        },
        "id": "-hhsUD9hf3r1",
        "outputId": "465b32d4-76d4-4294-d70e-3354f6e5ac15"
      },
      "outputs": [
        {
          "output_type": "stream",
          "name": "stdout",
          "text": [
            "4 5\n",
            "a = 4\n",
            "b = 5\n"
          ]
        }
      ],
      "source": [
        "# 정수 a와 b가 주어집니다. 각 수를 입력받아 입출력 예와 같은 형식으로 출력하는 코드를 작성해 보세요.\n",
        "a, b = map(int, input().strip().split(' '))\n",
        "print(f'a = {a}')\n",
        "print(f'b = {b}')"
      ]
    },
    {
      "cell_type": "code",
      "source": [
        "# 문자열 str과 정수 n이 주어집니다.\n",
        "# str이 n번 반복된 문자열을 만들어 출력하는 코드를 작성해 보세요.\n",
        "str, n = input().strip().split(' ')\n",
        "n = int(n)\n",
        "print(str*n)"
      ],
      "metadata": {
        "colab": {
          "base_uri": "https://localhost:8080/"
        },
        "id": "Z_8vnZYhg36w",
        "outputId": "bd631269-02e8-4bec-89cc-472dbbd85809"
      },
      "execution_count": 4,
      "outputs": [
        {
          "output_type": "stream",
          "name": "stdout",
          "text": [
            "string 5\n",
            "stringstringstringstringstring\n"
          ]
        }
      ]
    },
    {
      "cell_type": "code",
      "source": [
        "# 영어 알파벳으로 이루어진 문자열 str이 주어집니다.\n",
        "# 각 알파벳을 대문자는 소문자로 소문자는 대문자로 변환해서 출력하는 코드를 작성해 보세요.\n",
        "str = input()\n",
        "result = str.swapcase()\n",
        "print(result)"
      ],
      "metadata": {
        "colab": {
          "base_uri": "https://localhost:8080/"
        },
        "id": "oOuJBBrcg-Oq",
        "outputId": "579dd0ab-8152-4ebc-e8ed-82eb30770116"
      },
      "execution_count": 5,
      "outputs": [
        {
          "output_type": "stream",
          "name": "stdout",
          "text": [
            "aBcDeFg\n",
            "AbCdEfG\n"
          ]
        }
      ]
    },
    {
      "cell_type": "code",
      "source": [
        "# 다음과 같이 출력하도록 코드를 작성해 주세요. : !@#$%^&*(\\'\"<>?:;\n",
        "print('''!@#$%^&*(\\\\'\"<>?:;''')"
      ],
      "metadata": {
        "colab": {
          "base_uri": "https://localhost:8080/"
        },
        "id": "vaOPRwO2hFt1",
        "outputId": "aaace181-a341-4dbb-ee69-ea8b3d805b32"
      },
      "execution_count": 6,
      "outputs": [
        {
          "output_type": "stream",
          "name": "stdout",
          "text": [
            "!@#$%^&*(\\'\"<>?:;\n"
          ]
        }
      ]
    },
    {
      "cell_type": "code",
      "source": [
        "# 두 정수 a, b가 주어질 때 다음과 같은 형태의 계산식을 출력하는 코드를 작성해 보세요.\n",
        "# a + b = c\n",
        "a, b = map(int, input().strip().split(' '))\n",
        "print(f'{a} + {b} = {a+b}')"
      ],
      "metadata": {
        "colab": {
          "base_uri": "https://localhost:8080/"
        },
        "id": "W8UzyX6whTUK",
        "outputId": "7654ab76-d6cc-4fdc-bb59-1cd8ffec3435"
      },
      "execution_count": 7,
      "outputs": [
        {
          "output_type": "stream",
          "name": "stdout",
          "text": [
            "4 5\n",
            "4 + 5 = 9\n"
          ]
        }
      ]
    },
    {
      "cell_type": "code",
      "source": [
        "# 두 개의 문자열 str1, str2가 공백으로 구분되어 입력으로 주어집니다.\n",
        "# 입출력 예와 같이 str1과 str2을 이어서 출력하는 코드를 작성해 보세요.\n",
        "str1, str2 = input().strip().split(' ')\n",
        "\n",
        "print(str1+str2)"
      ],
      "metadata": {
        "colab": {
          "base_uri": "https://localhost:8080/"
        },
        "id": "75DWk1rWhb5D",
        "outputId": "68a2df0b-198d-492e-e5d6-00ed5c1a7910"
      },
      "execution_count": 8,
      "outputs": [
        {
          "output_type": "stream",
          "name": "stdout",
          "text": [
            "apple pen\n",
            "applepen\n"
          ]
        }
      ]
    },
    {
      "cell_type": "code",
      "source": [
        "# 문자열 str이 주어집니다.\n",
        "# 문자열을 시계방향으로 90도 돌려서 아래 입출력 예와 같이 출력하는 코드를 작성해 보세요.\n",
        "str = input()\n",
        "\n",
        "for i in str:\n",
        "    print(i)"
      ],
      "metadata": {
        "colab": {
          "base_uri": "https://localhost:8080/"
        },
        "id": "vCkia5Wehgwo",
        "outputId": "7b46083f-8079-4c31-d0ab-86c7cbb376d9"
      },
      "execution_count": 9,
      "outputs": [
        {
          "output_type": "stream",
          "name": "stdout",
          "text": [
            "abcde\n",
            "a\n",
            "b\n",
            "c\n",
            "d\n",
            "e\n"
          ]
        }
      ]
    },
    {
      "cell_type": "code",
      "source": [
        "# 자연수 n이 입력으로 주어졌을 때 만약 n이 짝수이면 \"n is even\"을, 홀수이면 \"n is odd\"를 출력하는 코드를 작성해 보세요.\n",
        "a = int(input())\n",
        "\n",
        "if a %2 == 0 :\n",
        "    print(f'{a} is even')\n",
        "else :\n",
        "    print(f'{a} is odd')"
      ],
      "metadata": {
        "colab": {
          "base_uri": "https://localhost:8080/"
        },
        "id": "ApEkx98zhjLQ",
        "outputId": "a00f0cd2-6ffa-4aab-fbbc-dfa0b13bd033"
      },
      "execution_count": 10,
      "outputs": [
        {
          "output_type": "stream",
          "name": "stdout",
          "text": [
            "100\n",
            "100 is even\n"
          ]
        }
      ]
    },
    {
      "cell_type": "markdown",
      "source": [
        "### 2. 연산"
      ],
      "metadata": {
        "id": "jiqXH176hQvB"
      }
    },
    {
      "cell_type": "code",
      "source": [
        "# 문자열 my_string, overwrite_string과 정수 s가 주어집니다.\n",
        "# 문자열 my_string의 인덱스 s부터 overwrite_string의 길이만큼을 문자열 overwrite_string으로 바꾼 문자열을 return 하는 solution 함수를 작성해 주세요.\n",
        "def solution(my_string, overwrite_string, s):\n",
        "    l = len(overwrite_string)\n",
        "    answer = my_string[:s] + overwrite_string + my_string[s+l:]\n",
        "    print(answer)\n",
        "    return answer\n",
        "\n",
        "solution(\"He11oWor1d\", \"lloWorl\", 2)"
      ],
      "metadata": {
        "colab": {
          "base_uri": "https://localhost:8080/",
          "height": 52
        },
        "id": "eC6hMm78ht1S",
        "outputId": "f5b3e93d-2029-4af2-f3fc-4bf720dae19b"
      },
      "execution_count": 20,
      "outputs": [
        {
          "output_type": "stream",
          "name": "stdout",
          "text": [
            "HelloWorld\n"
          ]
        },
        {
          "output_type": "execute_result",
          "data": {
            "text/plain": [
              "'HelloWorld'"
            ],
            "application/vnd.google.colaboratory.intrinsic+json": {
              "type": "string"
            }
          },
          "metadata": {},
          "execution_count": 20
        }
      ]
    },
    {
      "cell_type": "code",
      "source": [
        "# 길이가 같은 두 문자열 str1과 str2가 주어집니다.\n",
        "# 두 문자열의 각 문자가 앞에서부터 서로 번갈아가면서 한 번씩 등장하는 문자열을 만들어 return 하는 solution 함수를 완성해 주세요.\n",
        "# str1\tstr2\tresult\n",
        "# \"aaaaa\"\t\"bbbbb\"\t\"ababababab\"\n",
        "\n",
        "def solution(str1, str2):\n",
        "    answer = ''  # 결과 문자열을 저장할 변수\n",
        "    length = len(str1)  # str1과 str2의 길이는 같으므로 str1의 길이를 사용\n",
        "\n",
        "    # 문자열의 길이만큼 반복\n",
        "    for i in range(length):\n",
        "        # str1의 i번째 문자를 먼저 추가\n",
        "        answer += str1[i]\n",
        "        # str2의 i번째 문자를 그 다음에 추가\n",
        "        answer += str2[i]\n",
        "\n",
        "    return answer\n",
        "\n",
        "solution(\"aaaa\", \"bbbb\")"
      ],
      "metadata": {
        "colab": {
          "base_uri": "https://localhost:8080/",
          "height": 35
        },
        "id": "JUr4JCCais7z",
        "outputId": "cea5d887-f188-490a-fee0-12a11db51078"
      },
      "execution_count": 22,
      "outputs": [
        {
          "output_type": "execute_result",
          "data": {
            "text/plain": [
              "'abababab'"
            ],
            "application/vnd.google.colaboratory.intrinsic+json": {
              "type": "string"
            }
          },
          "metadata": {},
          "execution_count": 22
        }
      ]
    }
  ]
}